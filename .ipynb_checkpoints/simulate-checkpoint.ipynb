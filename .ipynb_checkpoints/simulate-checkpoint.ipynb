{
 "cells": [
  {
   "cell_type": "markdown",
   "metadata": {},
   "source": [
    "#### Setup"
   ]
  },
  {
   "cell_type": "code",
   "execution_count": 88,
   "metadata": {},
   "outputs": [
    {
     "name": "stdout",
     "output_type": "stream",
     "text": [
      "3.7.6 | packaged by conda-forge | (default, Mar 23 2020, 22:45:16) \n",
      "[Clang 9.0.1 ]\n"
     ]
    }
   ],
   "source": [
    "import sys\n",
    "import numpy as np\n",
    "import pandas as pd\n",
    "import math\n",
    "import random\n",
    "from concorde.tsp import TSPSolver\n",
    "from ortools.constraint_solver import routing_enums_pb2\n",
    "from ortools.constraint_solver import pywrapcp\n",
    "print(sys.version)\n"
   ]
  },
  {
   "cell_type": "code",
   "execution_count": 2,
   "metadata": {},
   "outputs": [],
   "source": [
    "# GLOBAL VARIABLES\n",
    "field_width = 100\n",
    "field_height = 100\n",
    "depot_x = 50\n",
    "depot_y = 50"
   ]
  },
  {
   "cell_type": "code",
   "execution_count": 9,
   "metadata": {},
   "outputs": [],
   "source": [
    "class Instance():\n",
    "    \n",
    "    def __init__(self, xlocs, ylocs, demands, solve_TSP=True):\n",
    "\n",
    "        self.size = len(demands)-1\n",
    "        self.demands = demands\n",
    "        self.xlocs = xlocs\n",
    "        self.ylocs = ylocs\n",
    "        self.distances = self.calc_distance_matrix()\n",
    "        self.tour = 'None'\n",
    "        if solve_TSP:\n",
    "            self.tour = self.solve_TSP()\n",
    "        \n",
    "    def calc_distance_matrix(self):\n",
    "\n",
    "        distances = np.zeros((self.size+1, self.size+1), dtype=float)\n",
    "        for i in range(self.size+1):\n",
    "            for j in range(self.size+1):\n",
    "                new_dist = math.sqrt((self.xlocs[i]-self.xlocs[j])**2 + (self.ylocs[i]-self.ylocs[j])**2)\n",
    "                distances[i,j] = new_dist\n",
    "        return distances\n",
    "\n",
    "    def get_lowerbound(self, capacity):\n",
    "        return (2/capacity) * sum([self.demands[i]*self.distances[0,i]\n",
    "                                        for i in range(len(self.demands))])\n",
    "    \n",
    "    def get_fleet_size(self, route_size):\n",
    "        assert self.size % route_size == 0, \"Number of customers must be evenly divisible by the route size.\"\n",
    "        return int(self.size / route_size)\n",
    "    \n",
    "    def solve_TSP(self):\n",
    "        solver = TSPSolver.from_data(self.xlocs, self.ylocs, 'EUC_2D')\n",
    "        solution = solver.solve()\n",
    "        return solution.tour\n"
   ]
  },
  {
   "cell_type": "code",
   "execution_count": 13,
   "metadata": {},
   "outputs": [],
   "source": [
    "def get_circular_cost(inst,segment):\n",
    "    return sum([inst.distances[segment[i],segment[i+1]] for i in range(len(segment)-1)])\n",
    "\n",
    "def get_radial_cost(inst,segment):\n",
    "    \"\"\"Assumes vehicle travels to/from the depot at segment endpoints.\"\"\"\n",
    "    return inst.distances[0,segment[0]] + inst.distances[0,segment[-1]]\n",
    "\n",
    "def get_total_cost(inst,segment):\n",
    "    return get_circular_cost(inst,segment)+get_radial_cost(inst,segment)"
   ]
  },
  {
   "cell_type": "code",
   "execution_count": 66,
   "metadata": {},
   "outputs": [],
   "source": [
    "def create_full_trips(inst, route_list, capacity):\n",
    "    \"\"\"Argument route_list is a list of arrays of customer indices - e.g., [[1,2,3,4]] or [[1,2],[3,4]]\"\"\"\n",
    "    \n",
    "    assert type(route_list) == list, \"route_list must be contained within square brackets as a list\"\n",
    "    \n",
    "    segments = []\n",
    "    for route in  route_list:\n",
    "        i = 0\n",
    "        new_seg = {}\n",
    "        while i < len(route):\n",
    "            cust = route[i]\n",
    "            for d in range(1,inst.demands[cust]+1):\n",
    "                if cust not in new_seg:\n",
    "                    new_seg[cust] = 1\n",
    "                else:\n",
    "                    new_seg[cust]+=1\n",
    "                if sum(new_seg.values()) == capacity:\n",
    "                    seg_array = np.array(list(new_seg))\n",
    "                    segments.append(seg_array)\n",
    "                    new_seg = {}\n",
    "            i+=1\n",
    "        seg_array = np.array(list(new_seg))\n",
    "        segments.append(seg_array)\n",
    "    return segments"
   ]
  },
  {
   "cell_type": "code",
   "execution_count": 5,
   "metadata": {},
   "outputs": [],
   "source": [
    "def get_dedicated_routes(inst, route_size):\n",
    "    \n",
    "    tour =  inst.tour[1:]\n",
    "    routes = []\n",
    "    for i in range(0,len(tour),route_size):\n",
    "        new_route = tour[i:i+route_size]\n",
    "        routes.append(new_route)\n",
    "    return routes"
   ]
  },
  {
   "cell_type": "code",
   "execution_count": 86,
   "metadata": {},
   "outputs": [],
   "source": [
    "N = 20\n",
    "dmin = 0\n",
    "dmax = 8\n",
    "cust_x = field_width*np.random.random(N)\n",
    "cust_y = field_height*np.random.random(N)\n",
    "cust_dems = np.random.randint(dmin,dmax,N)\n",
    "xlocs = np.append([depot_x], cust_x)\n",
    "ylocs = np.append([depot_y], cust_y)\n",
    "demands = np.append([0], cust_dems)\n",
    "inst = Instance(xlocs, ylocs, demands)"
   ]
  },
  {
   "cell_type": "code",
   "execution_count": 85,
   "metadata": {},
   "outputs": [],
   "source": [
    "capacity=20\n",
    "route_size=5"
   ]
  },
  {
   "cell_type": "code",
   "execution_count": 99,
   "metadata": {},
   "outputs": [
    {
     "name": "stdout",
     "output_type": "stream",
     "text": [
      "Big tour: [ 0  6  3 17  1  5 15 11  2 18 19 14  8  9  4 10 12 16  7 20 13]\n",
      "\n",
      "--- LOWERBOUND ---\n",
      "Lowerbound: 210.9\n",
      "\n",
      "--- DEDICATED ---\n",
      "Routes:\n",
      "\t[ 6  3 17  1  5]\n",
      "\t[15 11  2 18 19]\n",
      "\t[14  8  9  4 10]\n",
      "\t[12 16  7 20 13]\n",
      "Trips:\n",
      "\t[ 6  3 17  1  5]\n",
      "\t[15 11  2 18 19]\n",
      "\t[ 8  9  4 10]\n",
      "\t[12 16  7 20 13]\n",
      "\n",
      "Radial cost: 262.7\n",
      "Circular cost: 344.4\n",
      "Total cost: 607.1\n",
      "\n",
      "-- Fully Flexible ---\n",
      "Trips:\n",
      "\t[ 6  3 17  1  5 15 11]\n",
      "\t[11  2 18 19  8  9  4]\n",
      "\t[10 12 16  7 20 13]\n",
      "\n",
      "Radial cost: 152.4\n",
      "Circular cost: 371.1\n",
      "Total cost: 523.5\n"
     ]
    }
   ],
   "source": [
    "print('Big tour:', inst.tour)\n",
    "\n",
    "print('\\n--- LOWERBOUND ---')\n",
    "print('Lowerbound:', inst.get_lowerbound(capacity).round(1))\n",
    "\n",
    "print('\\n--- DEDICATED ---')\n",
    "routes = get_dedicated_routes(inst, route_size)\n",
    "trips = create_full_trips(inst,routes,capacity)\n",
    "print('Routes:', *routes, sep=\"\\n\\t\")\n",
    "print('Trips:', *trips, sep=\"\\n\\t\")\n",
    "print('\\nRadial cost:', sum([get_radial_cost(inst,seg) for seg in trips]).round(1))\n",
    "print('Circular cost:', sum([get_circular_cost(inst,seg) for seg in trips]).round(1))\n",
    "print('Total cost:', sum([get_total_cost(inst,seg) for seg in trips]).round(1))\n",
    "\n",
    "print('\\n-- Fully Flexible ---')\n",
    "trips = create_full_trips(inst,[inst.tour],capacity)\n",
    "print('Trips:', *trips, sep=\"\\n\\t\")\n",
    "print('\\nRadial cost:', sum([get_radial_cost(inst,seg) for seg in trips]).round(1))\n",
    "print('Circular cost:', sum([get_circular_cost(inst,seg) for seg in trips]).round(1))\n",
    "print('Total cost:', sum([get_total_cost(inst,seg) for seg in trips]).round(1))"
   ]
  }
 ],
 "metadata": {
  "kernelspec": {
   "display_name": "Python 3",
   "language": "python",
   "name": "python3"
  },
  "language_info": {
   "codemirror_mode": {
    "name": "ipython",
    "version": 3
   },
   "file_extension": ".py",
   "mimetype": "text/x-python",
   "name": "python",
   "nbconvert_exporter": "python",
   "pygments_lexer": "ipython3",
   "version": "3.7.6"
  }
 },
 "nbformat": 4,
 "nbformat_minor": 4
}
