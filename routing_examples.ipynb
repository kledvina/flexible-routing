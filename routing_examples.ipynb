{
 "cells": [
  {
   "cell_type": "markdown",
   "metadata": {},
   "source": [
    "# Simulation of Flexible Vehicle Routing"
   ]
  },
  {
   "cell_type": "code",
   "execution_count": 415,
   "metadata": {},
   "outputs": [],
   "source": [
    "#TODO: Fix alt method so that it doesn't send out truck if primary route already covered by previous truck"
   ]
  },
  {
   "cell_type": "markdown",
   "metadata": {},
   "source": [
    "## A. Setup"
   ]
  },
  {
   "cell_type": "code",
   "execution_count": 20,
   "metadata": {},
   "outputs": [
    {
     "name": "stdout",
     "output_type": "stream",
     "text": [
      "3.7.6 | packaged by conda-forge | (default, Mar 23 2020, 22:45:16) \n",
      "[Clang 9.0.1 ]\n"
     ]
    }
   ],
   "source": [
    "import sys\n",
    "import numpy as np\n",
    "import pandas as pd\n",
    "import math\n",
    "import random\n",
    "import time\n",
    "import matplotlib.pyplot as plt\n",
    "#from concorde.tsp import TSPSolver\n",
    "from ortools.constraint_solver import routing_enums_pb2\n",
    "from ortools.constraint_solver import pywrapcp\n",
    "print(sys.version)"
   ]
  },
  {
   "cell_type": "code",
   "execution_count": 9,
   "metadata": {},
   "outputs": [],
   "source": [
    "# GLOBAL VARIABLES\n",
    "field_width = 100 # Customer location has x-coordinate in (0, field_width)\n",
    "field_height = 100 # Customer location has y-coordinate in (0, field_height)\n",
    "depot_x = 50 # Depot x-coordinate\n",
    "depot_y = 50 # Depot y-coordinate"
   ]
  },
  {
   "cell_type": "markdown",
   "metadata": {},
   "source": [
    "## B. Classes and methods"
   ]
  },
  {
   "cell_type": "markdown",
   "metadata": {},
   "source": [
    "### Instance class for random demands and locations"
   ]
  },
  {
   "cell_type": "code",
   "execution_count": 377,
   "metadata": {},
   "outputs": [],
   "source": [
    "class Instance():\n",
    "    \"\"\"A realized set of node locations and demands and the resulting routing characteristics.\"\"\"\n",
    "    def __init__(self, xlocs, ylocs, demands, solve_TSP=True):\n",
    "\n",
    "        self.size = len(demands)-1\n",
    "        self.demands = demands\n",
    "        self.xlocs = xlocs\n",
    "        self.ylocs = ylocs\n",
    "        self.distances = self.calc_distance_matrix()\n",
    "        self.optimal_routes = 'None'\n",
    "        self.tour = 'None'\n",
    "        if solve_TSP:\n",
    "            #self.tour = self.solve_TSP()\n",
    "            #self.tour = self.TSP_heuristic()\n",
    "            self.tour = self.solve_TSP()\n",
    "            \n",
    "    def calc_distance_matrix(self):\n",
    "        \"\"\"Returns a matrix with pairwise node distances\"\"\"\n",
    "        distances = np.zeros((self.size+1, self.size+1), dtype=float)\n",
    "        for i in range(self.size+1):\n",
    "            for j in range(self.size+1):\n",
    "                new_dist = math.sqrt((self.xlocs[i]-self.xlocs[j])**2 + (self.ylocs[i]-self.ylocs[j])**2)\n",
    "                distances[i,j] = new_dist\n",
    "        return distances\n",
    "\n",
    "    def update_demands(self, demands):\n",
    "        self.demands = demands\n",
    "    \n",
    "    def update_tour(self, tour):\n",
    "        self.tour = tour\n",
    "        \n",
    "    def get_lowerbound(self, capacity):\n",
    "        \"\"\"Returns a theoretical lowerbound on the optimal routing cost\"\"\"\n",
    "        return (2/capacity) * sum([self.demands[i]*self.distances[0,i]\n",
    "                                        for i in range(len(self.demands))])\n",
    "    \n",
    "    def get_fleet_size(self, route_size):\n",
    "        \"\"\"Returns the number of vehicles needed to visit all nodes given a fixed route size\"\"\"\n",
    "        assert self.size % route_size == 0, \"Number of customers must be evenly divisible by the route size.\"\n",
    "        return int(self.size / route_size)\n",
    "    \n",
    "    def save_optimal_routes(self, route_list):\n",
    "        self.optimal_routes = route_list\n",
    "        \n",
    "    def TSP_heuristic(self):\n",
    "\n",
    "        # Tracker for whether a customer has been visited\n",
    "        isVisited = dict([(c, False) for c in range(1,self.size+1)])\n",
    "\n",
    "        # Begin tour at depot\n",
    "        current = 0\n",
    "        tour = [current]\n",
    "\n",
    "        # Nearest neighbor algorithm\n",
    "        while not all(isVisited[i] == True for i in isVisited):\n",
    "            candidate_distances = dict([(c, self.distances[current, c]) for c in isVisited if isVisited[c] == False])\n",
    "            nn = min(candidate_distances, key = candidate_distances.get)\n",
    "            tour.append(nn)\n",
    "            isVisited[nn] = True\n",
    "            current = nn\n",
    "\n",
    "        # 2-opt swap improvement algorithm\n",
    "        best_distance = sum(self.distances[tour[c], tour[c+1]] for c in range(len(tour)-1))\n",
    "        improved = True\n",
    "        while improved:\n",
    "            improved = False\n",
    "            for j in range(1, len(self.tour)-1):\n",
    "                for k in range(j+1, len(self.tour)):\n",
    "                    new_tour = tour[0:j] + tour[k:j-1:-1] + tour[k+1:]\n",
    "                    new_distance = sum(self.distances[new_tour[c], new_tour[c+1]] for c in range(len(new_tour)-1))\n",
    "                    if new_distance < best_distance:\n",
    "                        # Update variables to improve tour\n",
    "                        tour = new_tour\n",
    "                        best_distance = new_distance\n",
    "                        improved = True\n",
    "\n",
    "        return tour\n",
    "\n",
    "    def solve_TSP(self):\n",
    "\n",
    "        def create_data_model():\n",
    "            data = {}\n",
    "            data['distance_matrix'] = self.distances\n",
    "            data['num_vehicles'] = 1\n",
    "            data['depot'] = 0\n",
    "            return data\n",
    "\n",
    "        def get_tour(manager, routing, solution):\n",
    "            index = routing.Start(0)\n",
    "            plan_output = ''\n",
    "            while not routing.IsEnd(index):\n",
    "                plan_output += '{},'.format(manager.IndexToNode(index))\n",
    "                previous_index = index\n",
    "                index = solution.Value(routing.NextVar(index))\n",
    "            plan_output += '{}'.format(manager.IndexToNode(index))\n",
    "            as_list = plan_output.split(',')\n",
    "            return [int(i) for i in as_list][:-1] # excludes return to depot in tour \n",
    "\n",
    "        # --- RUN PROGRAM ---\n",
    "\n",
    "        # Instantiate the data problem.\n",
    "        data = create_data_model()\n",
    "\n",
    "        # Create the routing index manager.\n",
    "        manager = pywrapcp.RoutingIndexManager(len(data['distance_matrix']),\n",
    "                                               data['num_vehicles'], data['depot'])\n",
    "\n",
    "        # Create Routing Model.\n",
    "        routing = pywrapcp.RoutingModel(manager)\n",
    "\n",
    "\n",
    "        def distance_callback(from_index, to_index):\n",
    "            \"\"\"Returns the distance between the two nodes.\"\"\"\n",
    "            # Convert from routing variable Index to distance matrix NodeIndex.\n",
    "            from_node = manager.IndexToNode(from_index)\n",
    "            to_node = manager.IndexToNode(to_index)\n",
    "            return data['distance_matrix'][from_node][to_node]\n",
    "\n",
    "        transit_callback_index = routing.RegisterTransitCallback(distance_callback)\n",
    "\n",
    "        # Define cost of each arc.\n",
    "        routing.SetArcCostEvaluatorOfAllVehicles(transit_callback_index)\n",
    "\n",
    "        # Setting first solution heuristic.\n",
    "        search_parameters = pywrapcp.DefaultRoutingSearchParameters()\n",
    "        search_parameters.first_solution_strategy = (\n",
    "            routing_enums_pb2.FirstSolutionStrategy.PATH_CHEAPEST_ARC)\n",
    "\n",
    "        # Solve the problem.\n",
    "        solution = routing.SolveWithParameters(search_parameters)\n",
    "        return get_tour(manager, routing, solution)"
   ]
  },
  {
   "cell_type": "markdown",
   "metadata": {},
   "source": [
    "### Cost measures"
   ]
  },
  {
   "cell_type": "code",
   "execution_count": 11,
   "metadata": {},
   "outputs": [],
   "source": [
    "def get_trip_count(route_list):\n",
    "    \"\"\"Returns number of trips in route list\"\"\"\n",
    "    assert type(route_list[0]) == list, \"route_list must be a list of lists (routes)\"\n",
    "    count = 0\n",
    "    for route in route_list:\n",
    "        if route != []:\n",
    "            count += 1\n",
    "    return count\n",
    "    \n",
    "def get_circular_cost(inst,segment):\n",
    "    \"\"\"Returns the total distance of moving from node to node within the given segment\"\"\"\n",
    "    if len(segment) == 0:\n",
    "        return 0\n",
    "    else:\n",
    "        return sum([inst.distances[segment[i],segment[i+1]] for i in range(len(segment)-1)])\n",
    "\n",
    "def get_radial_cost(inst,segment):\n",
    "    \"\"\"Returns the total distance of trips to/from the depot at segment endpoints.\"\"\"\n",
    "    if len(segment) == 0:\n",
    "        return 0\n",
    "    else:\n",
    "        return inst.distances[0,segment[0]] + inst.distances[0,segment[-1]]\n",
    "\n",
    "def get_total_cost(inst,segment):\n",
    "    \"\"\"Returns sum of circular and radial costs for the given segment\"\"\"\n",
    "    return get_circular_cost(inst,segment)+get_radial_cost(inst,segment)"
   ]
  },
  {
   "cell_type": "markdown",
   "metadata": {},
   "source": [
    "### VRP solver\n",
    "Using Google OR-Tools."
   ]
  },
  {
   "cell_type": "code",
   "execution_count": 386,
   "metadata": {},
   "outputs": [],
   "source": [
    "def solve_VRP(inst, capacity):\n",
    "\n",
    "    def create_data_model(inst, capacity):\n",
    "        data = {}\n",
    "        data['distance_matrix'] = inst.distances\n",
    "        data['demands'] = inst.demands\n",
    "        data['vehicle_capacities'] = [capacity]*inst.size\n",
    "        data['num_vehicles'] = inst.size\n",
    "        data['depot'] = 0\n",
    "        return data\n",
    "\n",
    "    def get_routes(solution, routing, manager):\n",
    "        \"\"\"Get vehicle routes from a solution and store them in an array.\"\"\"\n",
    "        # Get vehicle routes and store them in a two dimensional array whose\n",
    "        # i,j entry is the jth location visited by vehicle i along its route.\n",
    "        routes = []\n",
    "        for route_nbr in range(routing.vehicles()):\n",
    "            index = routing.Start(route_nbr)\n",
    "            route = [manager.IndexToNode(index)]\n",
    "            while not routing.IsEnd(index):\n",
    "                index = solution.Value(routing.NextVar(index))\n",
    "                route.append(manager.IndexToNode(index))\n",
    "            routes.append(route)\n",
    "        return routes\n",
    "\n",
    "    def distance_callback(from_index, to_index):\n",
    "        \"\"\"Returns the distance between the two nodes.\"\"\"\n",
    "        # Convert from routing variable Index to distance matrix NodeIndex.\n",
    "        from_node = manager.IndexToNode(from_index)\n",
    "        to_node = manager.IndexToNode(to_index)\n",
    "        return data['distance_matrix'][from_node][to_node]\n",
    "    \n",
    "    def demand_callback(from_index):\n",
    "        \"\"\"Returns the demand of the node.\"\"\"\n",
    "        # Convert from routing variable Index to demands NodeIndex.\n",
    "        from_node = manager.IndexToNode(from_index)\n",
    "        return data['demands'][from_node]\n",
    "    \n",
    "    \n",
    "    # --- RUN PROGRAM ---\n",
    "\n",
    "    # Zero cost if no demands\n",
    "    if all(dem == 0 for dem in inst.demands):\n",
    "        return (0, 0, 0)\n",
    "    \n",
    "    # Set up data model\n",
    "    data = create_data_model(inst, capacity)\n",
    "    \n",
    "    # Create the routing index manager\n",
    "    manager = pywrapcp.RoutingIndexManager(len(data['distance_matrix']), data['num_vehicles'], data['depot'])\n",
    "    \n",
    "    # Create routing model\n",
    "    routing = pywrapcp.RoutingModel(manager)\n",
    "\n",
    "    # Create and register a transit callback\n",
    "    transit_callback_index = routing.RegisterTransitCallback(distance_callback)\n",
    "\n",
    "    # Define cost of each arc\n",
    "    routing.SetArcCostEvaluatorOfAllVehicles(transit_callback_index)\n",
    "\n",
    "    # Add capacity constraint\n",
    "    demand_callback_index = routing.RegisterUnaryTransitCallback(demand_callback)\n",
    "    routing.AddDimensionWithVehicleCapacity(\n",
    "        demand_callback_index,\n",
    "        0,  # null capacity slack\n",
    "        data['vehicle_capacities'],  # vehicle maximum capacities\n",
    "        True,  # start cumul to zero\n",
    "        'Capacity')\n",
    "\n",
    "    # Setting first solution heuristic\n",
    "    search_parameters = pywrapcp.DefaultRoutingSearchParameters()\n",
    "    search_parameters.first_solution_strategy = (\n",
    "        routing_enums_pb2.FirstSolutionStrategy.PATH_CHEAPEST_ARC)\n",
    "\n",
    "    # Solve the problem\n",
    "    solution = routing.SolveWithParameters(search_parameters)\n",
    "    all_routes = get_routes(solution, routing, manager)\n",
    "    nonempty_routes = [route for route in all_routes if not all(i == 0 for i in route)]\n",
    "    \n",
    "    # Remove the depot from the optimal routes\n",
    "    parsed_routes = [route[1:-1] for route in nonempty_routes]\n",
    "    return parsed_routes\n",
    "    \n",
    "def solve_SDVRP(inst,capacity):\n",
    "    \"\"\"Creates equivalent demand/location instance with unit demand and solves the VRP with splittable demands\"\"\"\n",
    "    # Create equivalent instance with unit demand customers\n",
    "    split_xlocs = [[0]] + [[inst.xlocs[i]]*inst.demands[i] for i in range(1,len(inst.demands))]\n",
    "    split_ylocs = [[0]] + [[inst.ylocs[i]]*inst.demands[i] for i in range(1,len(inst.demands))]\n",
    "    split_demands = [[0]] + [[1]*inst.demands[i] for i in range(1,len(inst.demands))]\n",
    "    split_xlocs = [v for sublist in split_xlocs for v in sublist]\n",
    "    split_ylocs = [v for sublist in split_ylocs for v in sublist]\n",
    "    split_demands = [v for sublist in split_demands for v in sublist]\n",
    "    split_inst = Instance(split_xlocs, split_ylocs, split_demands, solve_TSP=False)\n",
    "    \n",
    "    # Solve VRP with unit demand customers\n",
    "    vrp = solve_VRP(split_inst, capacity)\n",
    "    \n",
    "    # Convert back to non-unit demand problem\n",
    "    # to get SDVRP solution for original instance\n",
    "    ids = [[0]] + [[i]*inst.demands[i] for i in range(1,len(inst.demands))]\n",
    "    ids = [v for sublist in ids for v in sublist]\n",
    "    sdvrp = [[ids[c] for c in route] for route in vrp]\n",
    "\n",
    "    return sdvrp"
   ]
  },
  {
   "cell_type": "code",
   "execution_count": 387,
   "metadata": {},
   "outputs": [
    {
     "data": {
      "image/png": "[encoded data removed]",
      "text/plain": [
       "<Figure size 432x288 with 1 Axes>"
      ]
     },
     "metadata": {
      "needs_background": "light"
     },
     "output_type": "display_data"
    }
   ],
   "source": [
    "num_cust = 20 # number of customers\n",
    "dmin = 0 # a customer's minimum random demand (for Uniform distribution)\n",
    "dmax = 8 # a customer's maximum random demand (for Uniform Distribution)\n",
    "capacity = 20 # vehicle capacity\n",
    "route_size = 5 # number of customers on a truck's primary route\n",
    "overlap_size = 5 # number of shared customers between two neighboring routes\n",
    "cust_x = field_width*np.random.random(num_cust) # x coordintes of all customers\n",
    "cust_y = field_height*np.random.random(num_cust) # y coordinates of all customers\n",
    "cust_dems = list(np.random.randint(dmin,dmax,num_cust)) # Uniformly distributed customer demands\n",
    "xlocs = list(np.append([depot_x], cust_x)) # depot and customer x-coords\n",
    "ylocs = list(np.append([depot_y], cust_y)) # depot and customer y-coords\n",
    "demands = list(np.append([0], cust_dems)) # depot and customer demands\n",
    "inst = Instance(xlocs, ylocs, demands)\n",
    "\n",
    "plot_instance(inst, showTour = True, showLabels=True)"
   ]
  },
  {
   "cell_type": "code",
   "execution_count": null,
   "metadata": {},
   "outputs": [],
   "source": []
  },
  {
   "cell_type": "code",
   "execution_count": 275,
   "metadata": {},
   "outputs": [
    {
     "name": "stdout",
     "output_type": "stream",
     "text": [
      "[0, 1, 1, 1, 1, 2, 3, 3, 3, 4, 4, 4, 4, 4, 4, 4, 5, 5, 5, 5, 8, 8, 10]\n",
      "[[9, 10], [19, 18, 8, 7, 6], [17, 16, 22, 5, 21], [4, 3, 2, 1, 20], [15, 14, 13, 12, 11]]\n"
     ]
    },
    {
     "data": {
      "text/plain": [
       "[[4, 4], [5, 5, 3, 3, 3], [5, 5, 10, 2, 8], [1, 1, 1, 1, 8], [4, 4, 4, 4, 4]]"
      ]
     },
     "execution_count": 275,
     "metadata": {},
     "output_type": "execute_result"
    }
   ],
   "source": [
    "solve_SDVRP(inst, 5)"
   ]
  },
  {
   "cell_type": "markdown",
   "metadata": {},
   "source": [
    "### Routing algorithms and helper methods"
   ]
  },
  {
   "cell_type": "markdown",
   "metadata": {},
   "source": [
    "Create skeleton (a priori) routes"
   ]
  },
  {
   "cell_type": "code",
   "execution_count": 13,
   "metadata": {},
   "outputs": [],
   "source": [
    "def get_primary_routes(inst, route_size):\n",
    "    \"\"\"Splits customer sequence into segments of 'route_size' number of customers\"\"\"\n",
    "    \n",
    "    tour =  inst.tour[1:] # Exclude depot\n",
    "    routes = []\n",
    "    for i in range(0,len(tour),route_size):\n",
    "        new_route = tour[i:i+route_size]\n",
    "        routes.append(new_route)\n",
    "    return routes\n",
    "\n",
    "def get_extended_routes(inst, route_size, overlap_size):\n",
    "    \"\"\"Splits customer sequnce into segments of 'route_size + overlap_size' number of customers, where adjacent\n",
    "    segments SHARE overlap_size number of customers.\"\"\"\n",
    "    tour = inst.tour[1:]\n",
    "    routes = []\n",
    "    for i in range(0,len(tour),route_size):\n",
    "        new_route = tour[i:i+route_size+overlap_size]\n",
    "        routes.append(new_route)\n",
    "    return routes"
   ]
  },
  {
   "cell_type": "markdown",
   "metadata": {},
   "source": [
    "Get realized trips between depot visits"
   ]
  },
  {
   "cell_type": "code",
   "execution_count": 14,
   "metadata": {},
   "outputs": [],
   "source": [
    "def create_full_trips(inst, route_list, capacity, demand_filled = None):\n",
    "    \"\"\"Splits a sequence of customers into individual trips. Returns a list of lists.\"\"\"\n",
    "    \n",
    "    assert type(route_list[0]) == list, \"route_list must be a list of lists (routes)\"\n",
    "\n",
    "    # Dictionary for tracking remaining demand filled at all customers\n",
    "    remaining_demand = dict([(inst.tour[i],inst.demands[inst.tour[i]]) for i in range(1,len(inst.tour))])\n",
    "\n",
    "    segments = []\n",
    "    for m in range(len(route_list)):\n",
    "        i = 0\n",
    "        seg_dict = {} # demand filled on current trip\n",
    "        vehicle_dict = dict([(inst.tour[i],0) for i in range(1,len(inst.tour))]) # total demand filled by vehicle on this route\n",
    "        while i < len(route_list[m]):\n",
    "            cust = route_list[m][i]\n",
    "            for d in range(inst.demands[cust]):\n",
    "                #print(dict([(c,vehicle_dict[c]) for c in vehicle_dict if vehicle_dict[c]!=0]))\n",
    "                #print(dict([(c,seg_dict[c]) for c in seg_dict if seg_dict[c]!=0]))\n",
    "                \n",
    "                if demand_filled != None and sum(vehicle_dict.values()) == demand_filled[m]:\n",
    "                    # Route's vehicle achieved its predetermined workload (if applicable)\n",
    "                    # Force to end this route and move to next\n",
    "                    i = len(route_list[m])\n",
    "                    break\n",
    "                    \n",
    "                elif sum(remaining_demand[c] for c in route_list[m]) == 0:\n",
    "                    # Route is completed\n",
    "                    # Force to end this route and move to next\n",
    "                    i = len(route_list[m])\n",
    "                    break\n",
    "                \n",
    "                elif sum(seg_dict.values()) == capacity:\n",
    "                    # Vehicle is at capacity\n",
    "                    # End current trip, and begin a new trip within this route\n",
    "                    segments.append(list(seg_dict))\n",
    "                    seg_dict = {cust: 1}\n",
    "                    vehicle_dict[cust] += 1\n",
    "                    remaining_demand[cust] -= 1\n",
    "                    \n",
    "                elif remaining_demand[cust] > 0:\n",
    "                    if cust not in seg_dict:\n",
    "                        # Begin service\n",
    "                        seg_dict[cust] = 1 \n",
    "                    else:\n",
    "                        # Continue service\n",
    "                        seg_dict[cust] += 1\n",
    "                    vehicle_dict[cust] += 1\n",
    "                    remaining_demand[cust] -= 1\n",
    "                \n",
    "            i+=1 # Moves to next customer\n",
    "        \n",
    "        # Append route's last segment\n",
    "        segments.append(list(seg_dict))\n",
    "\n",
    "    return segments"
   ]
  },
  {
   "cell_type": "code",
   "execution_count": 9,
   "metadata": {},
   "outputs": [],
   "source": [
    "def overlapping_check(inst, route_list, capacity, route_size=None, overlap_size=None):\n",
    "    \"\"\"Splits a sequence of customers into individual trips. Returns a list of lists. Arguments route_size\n",
    "    and overlap_size are set to large (non-constraining) values by default if not specified.\"\"\"\n",
    "    \n",
    "    assert type(route_list[0]) == list, \"route_list must be a list of lists (routes)\"\n",
    "    \n",
    "    # Set route_size and overlap_size to large (non-constraining value) if not specified\n",
    "    if not route_size:\n",
    "        route_size = 2*inst.size\n",
    "    if not overlap_size:\n",
    "        overlap_size = 2*inst.size\n",
    "           \n",
    "    # dictionary for tracking demand filled at all customers with non-zero demand\n",
    "    all_dict = dict([(inst.tour[i],0) for i in range(1,len(inst.tour)) if inst.demands[inst.tour[i]] !=0])\n",
    "    \n",
    "    segments = []\n",
    "    for route in route_list:\n",
    "        i = 0\n",
    "        # dictionary for customers and demand filled on the current trip\n",
    "        seg_dict = {}\n",
    "        while i < len(route):\n",
    "            cust = route[i]\n",
    "            for d in range(1,inst.demands[cust]+1):\n",
    "                \n",
    "                # (Relevant to overlapping routes) If previous route's vehicle handled all of this route's\n",
    "                # primary customers, DON'T send this route's vehicle to the extended route (which is the\n",
    "                # next route's vehicle's primary route). Instead just end this route and have the next\n",
    "                # vehicle start with at the beginning of its primary route.\n",
    "                if sum(seg_dict.values()) == 0 and i == route_size:\n",
    "                    # force to move to next route\n",
    "                    i = len(route) \n",
    "                    break\n",
    "                \n",
    "                # Handle customer's remaining demand\n",
    "                if all_dict[cust] == inst.demands[cust]:\n",
    "                    # already full served\n",
    "                    pass\n",
    "                elif cust not in seg_dict:\n",
    "                    # begin service\n",
    "                    seg_dict[cust] = 1\n",
    "                    all_dict[cust] += 1\n",
    "                else:\n",
    "                    # continue service\n",
    "                    seg_dict[cust] += 1\n",
    "                    all_dict[cust] += 1\n",
    "                \n",
    "                # End trip if vehicle at capacity\n",
    "                if (sum(seg_dict.values()) == capacity):\n",
    "                    seg_array = list(seg_dict)\n",
    "                    segments.append(seg_array)\n",
    "                    seg_dict = {}\n",
    "                    if i+1 > route_size:\n",
    "                        # force to move to next route\n",
    "                        i = len(route)\n",
    "                        break\n",
    "            i+=1\n",
    "        \n",
    "        seg_array = list(seg_dict) \n",
    "        segments.append(seg_array) # include last route\n",
    "    return segments"
   ]
  },
  {
   "cell_type": "code",
   "execution_count": 15,
   "metadata": {},
   "outputs": [],
   "source": [
    "def implement_k_overlapped_alg(inst, primary_routes, extended_routes, capacity, route_size, overlap_size):\n",
    "    \"\"\"Implement's general k-overlapped routing algorithm. Returns list of realized vehicle routes. \"\"\"\n",
    "    assert type(primary_routes[0]) == list, \"primary_routes must be a list of lists (routes)\"\n",
    "    assert type(extended_routes[0]) == list, \"extended_routes must be a list of lists (routes)\"\n",
    "\n",
    "    # Get overlapped segments (note that last route does not have any shared customers at the route's end)\n",
    "    overlapped_segments = []\n",
    "    for j in range(len(primary_routes)-1):\n",
    "        new_segment = [c for c in extended_routes[j] if c not in primary_routes[j]]\n",
    "        overlapped_segments.append(new_segment)\n",
    "\n",
    "    # Initialize arrays\n",
    "    primary_demands = np.asarray([sum(inst.demands[cust] for cust in route) for route in primary_routes]) # a priori primary route demand for each vehicle\n",
    "    extended_demands = np.asarray([sum(inst.demands[cust] for cust in route) for route in extended_routes]) # a priori extended route demand for each vehicle                            \n",
    "    overlap_demands = extended_demands - primary_demands # demands of customers in k-overlapped regions for each vehicle\n",
    "                                    \n",
    "    first = np.asarray([route[0] for route in primary_routes]) # first customer in route for each vehicle\n",
    "    last = np.asarray([route[-1] for route in overlapped_segments] + [inst.tour[-1]])\n",
    "\n",
    "    excess = np.zeros(len(primary_routes)) # surplus capacity for each vehicle (updated below)\n",
    "    workload = np.zeros(len(primary_routes)) # demand ultimately filled by each vehicle (updated below)\n",
    "    \n",
    "    realized_routes = []\n",
    "    \n",
    "    # Loop through vehicles\n",
    "    for j in range(len(primary_routes)):\n",
    "        \n",
    "        if j == 0:\n",
    "            workload[j] = primary_demands[j] \n",
    "        else:\n",
    "            workload[j] = max(0, primary_demands[j] - excess[j-1])\n",
    "        \n",
    "        excess[j] = min(capacity * np.ceil(float(workload[j]) / capacity) - workload[j], overlap_demands[j])\n",
    "        remaining_surplus = excess[j]\n",
    "        \n",
    "        i = 0\n",
    "        while remaining_surplus > 0:\n",
    "            if i < len(overlapped_segments[j]):\n",
    "                # fill demand of next shared customer\n",
    "                # override default first and last customer if appropriate\n",
    "                remaining_surplus -= inst.demands[overlapped_segments[j][i]]\n",
    "                # set first and last customers\n",
    "                if remaining_surplus == 0:\n",
    "                    last[j] = overlapped_segments[j][i]\n",
    "                    if i != len(overlapped_segments[j]) - 1:\n",
    "                        first[j+1] = overlapped_segments[j][i+1]\n",
    "                    else:\n",
    "                        first[j+1] = 0 # next vehicle doesn't need to leave depot\n",
    "                elif remaining_surplus < 0:\n",
    "                    # vehicles will split this customer\n",
    "                    last[j] = overlapped_segments[j][i]\n",
    "                    first[j+1] = overlapped_segments[j][i]\n",
    "            i += 1\n",
    "\n",
    "    # Determine realized routes based on updated first and last customers\n",
    "    realized_routes = []\n",
    "    for j in range(len(primary_routes)):\n",
    "        \n",
    "        # Create vehicle route\n",
    "        if first[j] == 0:\n",
    "            route = [] # vehicle doesn't leave depot\n",
    "        else:\n",
    "            first_index = inst.tour.index(first[j])\n",
    "            last_index = inst.tour.index(last[j])\n",
    "            route = inst.tour[first_index:last_index+1]\n",
    "        \n",
    "        # Append to realized routes\n",
    "        realized_routes.append(route)\n",
    "    \n",
    "    # Create full trips (i.e., segments) from realized routes\n",
    "    demand_filled = [workload[j]+excess[j] for j in range(len(primary_routes))]\n",
    "    segments = create_full_trips(inst, realized_routes, capacity, demand_filled)\n",
    "    \n",
    "    #print('First: {}'.format(first))\n",
    "    #print('Last: {}'.format(last))\n",
    "    #print('Workload: {}'.format(workload))\n",
    "    #print('Excess: {}'.format(excess))\n",
    "    #print('Demand Filled: {}'.format(demand_filled))\n",
    "\n",
    "    return segments"
   ]
  },
  {
   "cell_type": "markdown",
   "metadata": {},
   "source": [
    "## C. Plotting Functions"
   ]
  },
  {
   "cell_type": "code",
   "execution_count": 144,
   "metadata": {},
   "outputs": [],
   "source": [
    "def plot_instance(inst, showTour=False, showLabels=False):\n",
    "    \"\"\"\n",
    "    Plots the instance's tour through all customers.\n",
    "    \"\"\"\n",
    "\n",
    "    # Set field dimensions\n",
    "    plt.ylim(ymin=0,ymax=100)\n",
    "    plt.xlim(xmin=0,xmax=100)\n",
    "    \n",
    "    \n",
    "    # Plot customer and depot locations\n",
    "    plt.plot(inst.xlocs[1:], inst.ylocs[1:], 'ko', markersize=4)\n",
    "    plt.plot(depot_x, depot_y, 'k*', markersize=9)\n",
    "   \n",
    "    if showTour:\n",
    "        # Plot the TSP path through the customers\n",
    "        tour_x = [inst.xlocs[c] for c in inst.tour] + [depot_x]\n",
    "        tour_y = [inst.ylocs[c] for c in inst.tour] + [depot_y]\n",
    "        plt.plot(tour_x, tour_y, color='gray', linestyle='-')\n",
    "\n",
    "    if showLabels:\n",
    "        # Add customer labels\n",
    "        for i in range(len(inst.tour)):\n",
    "            plt.annotate(i, # Label text\n",
    "                         (inst.xlocs[i], inst.ylocs[i]), # Point to label\n",
    "                         textcoords=\"offset points\",\n",
    "                         xytext=(0,5), # Distance from text to points (x,y)\n",
    "                         ha='center')\n",
    "\n",
    "    plt.show()"
   ]
  },
  {
   "cell_type": "markdown",
   "metadata": {},
   "source": [
    "## D. Example Instance"
   ]
  },
  {
   "cell_type": "markdown",
   "metadata": {},
   "source": [
    "### 1) Set network parameters"
   ]
  },
  {
   "cell_type": "code",
   "execution_count": 279,
   "metadata": {},
   "outputs": [
    {
     "name": "stdout",
     "output_type": "stream",
     "text": [
      "--- PARAMETERS ---\n",
      "Num. of customers: 10, Demand range: [0,8], Veh. capacity: 20, Primary route size: 5, Overlap size: 5\n"
     ]
    }
   ],
   "source": [
    "num_cust = 10 # number of customers\n",
    "dmin = 0 # a customer's minimum random demand (for Uniform distribution)\n",
    "dmax = 8 # a customer's maximum random demand (for Uniform Distribution)\n",
    "capacity = 20 # vehicle capacity\n",
    "route_size = 5 # number of customers on a truck's primary route\n",
    "overlap_size = 5 # number of shared customers between two neighboring routes\n",
    "\n",
    "print('--- PARAMETERS ---')\n",
    "print('Num. of customers: {}, Demand range: [{},{}], Veh. capacity: {}, Primary route size: {}, Overlap size: {}'. \\\n",
    "      format(num_cust, dmin, dmax, capacity, route_size, overlap_size))"
   ]
  },
  {
   "cell_type": "markdown",
   "metadata": {},
   "source": [
    "### 2) Generate random instance"
   ]
  },
  {
   "cell_type": "code",
   "execution_count": 280,
   "metadata": {},
   "outputs": [
    {
     "data": {
      "image/png": "[encoded data removed]",
      "text/plain": [
       "<Figure size 432x288 with 1 Axes>"
      ]
     },
     "metadata": {
      "needs_background": "light"
     },
     "output_type": "display_data"
    }
   ],
   "source": [
    "cust_x = field_width*np.random.random(num_cust) # x coordintes of all customers\n",
    "cust_y = field_height*np.random.random(num_cust) # y coordinates of all customers\n",
    "cust_dems = list(np.random.randint(dmin,dmax,num_cust)) # Uniformly distributed customer demands\n",
    "xlocs = list(np.append([depot_x], cust_x)) # depot and customer x-coords\n",
    "ylocs = list(np.append([depot_y], cust_y)) # depot and customer y-coords\n",
    "demands = list(np.append([0], cust_dems)) # depot and customer demands\n",
    "inst = Instance(xlocs, ylocs, demands)\n",
    "\n",
    "plot_instance(inst, showLabels=True)"
   ]
  },
  {
   "cell_type": "code",
   "execution_count": 281,
   "metadata": {},
   "outputs": [
    {
     "name": "stdout",
     "output_type": "stream",
     "text": [
      "[0, 5, 8, 6, 1, 9, 3, 7, 2, 4, 10]\n"
     ]
    },
    {
     "data": {
      "image/png": "[encoded data removed]",
      "text/plain": [
       "<Figure size 432x288 with 1 Axes>"
      ]
     },
     "metadata": {
      "needs_background": "light"
     },
     "output_type": "display_data"
    }
   ],
   "source": [
    "print(inst.tour)\n",
    "plot_instance(inst, showTour=True, showLabels=True)"
   ]
  },
  {
   "cell_type": "markdown",
   "metadata": {},
   "source": [
    "### 3) Print instance summary"
   ]
  },
  {
   "cell_type": "code",
   "execution_count": 293,
   "metadata": {},
   "outputs": [
    {
     "name": "stdout",
     "output_type": "stream",
     "text": [
      "--- INSTANCE SUMMARY ---\n",
      "Number of customers: \t 10\n",
      "Vehicle capacity: \t 20\n",
      "Primary route size: \t 5\n",
      "Overlap size: \t\t 5\n",
      "Big TSP tour: \t\t [5, 8, 6, 1, 9, 3, 7, 2, 4, 10]\n",
      "Tour demands: \t\t [7, 0, 4, 7, 3, 7, 2, 0, 0, 2]\n",
      "Lowerbound Cost: \t 117\n"
     ]
    }
   ],
   "source": [
    "print('--- INSTANCE SUMMARY ---')\n",
    "print('Number of customers: \\t', inst.size)\n",
    "print('Vehicle capacity: \\t', capacity)\n",
    "print('Primary route size: \\t', route_size)\n",
    "print('Overlap size: \\t\\t', overlap_size)\n",
    "print('Big TSP tour: \\t\\t', inst.tour[1:])\n",
    "print('Tour demands: \\t\\t', [inst.demands[c] for c in inst.tour[1:]])\n",
    "print('Lowerbound Cost: \\t', int(inst.get_lowerbound(capacity)))"
   ]
  },
  {
   "cell_type": "markdown",
   "metadata": {},
   "source": [
    "### 4) Solve routing problem\n",
    "#### a) Dedicated routing strategy\n",
    "*The algorithm is described below:*\n",
    "- Identify a single tour through all *N* customers.\n",
    "- Split this sequence of *N* customers into into *M* \"primary\" route segments with equal number of customers (\"route_size\" or N' customers). This assumes *N* is divisible by *M*.\n",
    "- Assign a single vehicle (with capacity *Q*) to each route.\n",
    "- Get information on customers' updated (realized) demands\n",
    "- Upon learning demands, vehicle *m* executes its primary route *m* in the following manner.\n",
    "    - The vehicle departs from depot at full capacity.\n",
    "    - It sequentially visits the customers in its primary route, skipping customers that have 0 demand.\n",
    "    - Upon exhausting its capacity, the vehicle detours to the depot to refill to full capacity and resumes its route wherever it left off.\n",
    "    - Upon filling all customer demands in the primary route, the vehicle has completed its route and returns to the depot.\n"
   ]
  },
  {
   "cell_type": "code",
   "execution_count": 291,
   "metadata": {},
   "outputs": [
    {
     "name": "stdout",
     "output_type": "stream",
     "text": [
      "--- DEDICATED ROUTING ---\n",
      "\n",
      "Tour (Row 1), Demand (Row 2):\n",
      "[[ 5  8  6  1  9  3  7  2  4 10]\n",
      " [ 7  0  4  7  3  7  2  0  0  2]]\n",
      "\n",
      "A priori routes:\n",
      "[5, 8, 6, 1, 9]\n",
      "[3, 7, 2, 4, 10]\n",
      "\n",
      "Realized trips:\n",
      "[5, 6, 1, 9]\n",
      "[9]\n",
      "[3, 7, 10]\n",
      "\n",
      "Trip count:\t 3\n",
      "Radial cost:\t 266.2\n",
      "Circular cost:\t 198.5\n",
      "Total cost:\t 464.7\n"
     ]
    }
   ],
   "source": [
    "print('--- DEDICATED ROUTING ---')\n",
    "primary_routes = get_primary_routes(inst, route_size)\n",
    "segments = create_full_trips(inst,primary_routes,capacity)\n",
    "combined = np.array([inst.tour[1:], [inst.demands[c] for c in inst.tour[1:]]])\n",
    "print('\\nTour (Row 1), Demand (Row 2):')\n",
    "print(combined)\n",
    "print('\\nA priori routes:', *primary_routes, sep=\"\\n\")\n",
    "print('\\nRealized trips:', *segments, sep=\"\\n\")\n",
    "print('\\nTrip count:\\t', get_trip_count(segments))\n",
    "print('Radial cost:\\t', sum([get_radial_cost(inst,seg) for seg in segments]).round(1))\n",
    "print('Circular cost:\\t', sum([get_circular_cost(inst,seg) for seg in segments]).round(1))\n",
    "print('Total cost:\\t', sum([get_total_cost(inst,seg) for seg in segments]).round(1))"
   ]
  },
  {
   "cell_type": "markdown",
   "metadata": {},
   "source": [
    "#### b) Overlapped routing strategy\n",
    "\n",
    "*The algorithm is described below:*\n",
    "- Create primary routes as described above in dedicated routing.\n",
    "- Additionally, create extended routes by assigning each vehicle to all of the customers in its primary route plus some of the customers in a neighboring vehicle's primary route.\n",
    "    - Extended routes formed under \"full adjacent overlapping\" means vehicle $m$ is assigned to customers in primary route $m$ plus all customers in primary route $m+1$, for vehicles $m=1,2,...,M-1$.\n",
    "    - Alternatively, extended routes formed under \"partial adjacent overlapping\" means vehicle $m$ is assigned to customers in primary route $m$ plus $k$ additional customers in primary route $m+1$, for vehicles $m=1,2,...,M-1$.\n",
    "    - In both cases, vehicle $m=M$ is assigned to only its primary route.\n",
    "- Upon learning customer demands, vehicle *m* executes its extended route in the following manner.\n",
    "    - The vehicle departs from depot at full capacity.\n",
    "    - It sequentially visits the customers in its primary route, skipping customers that have 0 demand or demand that has already been filled. The vehicle reloads at the depot as needed.\n",
    "    - Upon filling demand of the final customer in the primary route, the vehicle either (a) permanently returns to the depot if no capacity remains or (b) proceeds with the customers in the extended route and fills those customer demands until the leftover vehicle capacity is exhausted, at which point the vehicle permanently returns to the depot.\n",
    "    - Vehicle *m+1* then starts primary route *m+1* wherever  vehicle *m* left off.\n",
    "    - However, in the case that vehicle *m-1* satisfied the demand of ALL customers in the extended route (meaning it covered all demand in vehicle *m*'s primary route), then vehicle *m* is never deployed. Instead vehicle *m+1* just starts its route at the beginning of primary route *m+1*.\n",
    "\n",
    "Note that a central planner assesses the realized customer demands and coordinate each vehicle's starting and ending customers (realized routes) within the extended route prior to the vehicle's departing the depot."
   ]
  },
  {
   "cell_type": "code",
   "execution_count": 290,
   "metadata": {},
   "outputs": [
    {
     "name": "stdout",
     "output_type": "stream",
     "text": [
      "--- OVERLAPPED ROUTING (Based on Algorithm) ---\n",
      "\n",
      "Tour (Row 1), Demand (Row 2):\n",
      "[[ 5  8  6  1  9  3  7  2  4 10]\n",
      " [ 7  0  4  7  3  7  2  0  0  2]]\n",
      "\n",
      "A priori routes:\n",
      "[5, 8, 6, 1, 9, 3, 7, 2, 4, 10]\n",
      "[3, 7, 2, 4, 10]\n",
      "\n",
      "Realized trips:\n",
      "[5, 6, 1, 9]\n",
      "[9, 3, 7, 10]\n",
      "[]\n",
      "\n",
      "Trip count:\t 2\n",
      "Radial cost:\t 165.4\n",
      "Circular cost:\t 203.9\n",
      "Total cost:\t 369.3\n"
     ]
    }
   ],
   "source": [
    "print('--- OVERLAPPED ROUTING (Based on Algorithm) ---')\n",
    "primary_routes = get_primary_routes(inst, route_size)\n",
    "extended_routes = get_extended_routes(inst, route_size, overlap_size)\n",
    "segments = implement_k_overlapped_alg(inst,primary_routes,extended_routes,capacity,route_size,overlap_size)\n",
    "combined = np.array([inst.tour[1:], [inst.demands[c] for c in inst.tour[1:]]])\n",
    "print('\\nTour (Row 1), Demand (Row 2):')\n",
    "print(combined)\n",
    "print('\\nA priori routes:', *extended_routes, sep=\"\\n\")\n",
    "print('\\nRealized trips:', *segments, sep=\"\\n\")\n",
    "print('\\nTrip count:\\t', get_trip_count(segments))\n",
    "print('Radial cost:\\t', sum([get_radial_cost(inst,seg) for seg in segments]).round(1))\n",
    "print('Circular cost:\\t', sum([get_circular_cost(inst,seg) for seg in segments]).round(1))\n",
    "print('Total cost:\\t', sum([get_total_cost(inst,seg) for seg in segments]).round(1))"
   ]
  },
  {
   "cell_type": "code",
   "execution_count": null,
   "metadata": {
    "jupyter": {
     "source_hidden": true
    }
   },
   "outputs": [],
   "source": [
    "print('--- CHECK: OVERLAPPED ROUTING (Alt. Method) ---')\n",
    "print('Note: Implementation does not follow algorithm from paper')\n",
    "extended_routes = get_extended_routes(inst, route_size, overlap_size)\n",
    "segments = overlapping_check(inst,extended_routes,capacity,route_size,overlap_size)\n",
    "print('Big TSP tour: ', inst.tour[1:])\n",
    "print('Tour demands: ', [inst.demands[c] for c in inst.tour[1:]])\n",
    "print('\\nA priori routes:', *extended_routes, sep=\"\\n\")\n",
    "print('\\nRealized trips:', *segments, sep=\"\\n\")\n",
    "print('\\nTrip count:\\t', get_trip_count(segments))\n",
    "print('Radial cost:\\t', sum([get_radial_cost(inst,seg) for seg in segments]).round(1))\n",
    "print('Circular cost:\\t', sum([get_circular_cost(inst,seg) for seg in segments]).round(1))\n",
    "print('Total cost:\\t', sum([get_total_cost(inst,seg) for seg in segments]).round(1))"
   ]
  },
  {
   "cell_type": "markdown",
   "metadata": {},
   "source": [
    "#### c) Fully flexible routing strategy\n",
    "\n",
    "*The algorithm is described below:*\n",
    "- As in the dedicated and overlapped routing strategies, create a large tour through all customers.\n",
    "- Select a starting customer and send out a vehicle at full capacity to sequentially fill as much customer demand as possible.\n",
    "- The vehicle returns to the depot upon exhuasting its capacity, and the next vehicle continues with the customer sequence where the previous vehicle left off.\n",
    "\n",
    "\n",
    "Note that as in the overlapped routing strategies, demands are learned in advance, which means each truck's starting and ending customers can be determined prior to the day's deliveries so that vehicles can execute their realized routes simultaneously.\n",
    "\n",
    "Also note that this strategy differs from full reoptimization since the sequence of customer visits within individul trips is fixed. In reoptimization, on the other hand, an individual vehicle trip can consists of any of the *N* customers."
   ]
  },
  {
   "cell_type": "code",
   "execution_count": 294,
   "metadata": {},
   "outputs": [
    {
     "name": "stdout",
     "output_type": "stream",
     "text": [
      "--- FULLY FLEXIBLE ROUTING ---\n",
      "\n",
      "Tour (Row 1), Demand (Row 2):\n",
      "[[ 5  8  6  1  9  3  7  2  4 10]\n",
      " [ 7  0  4  7  3  7  2  0  0  2]]\n",
      "\n",
      "Realized trips:\n",
      "[5, 6, 1, 9]\n",
      "[9, 3, 7, 10]\n",
      "\n",
      "Trip count:\t 2\n",
      "Radial cost:\t 165.4\n",
      "Circular cost:\t 203.9\n",
      "Total cost:\t 369.3\n"
     ]
    }
   ],
   "source": [
    "print('--- FULLY FLEXIBLE ROUTING ---')\n",
    "segments = create_full_trips(inst,[inst.tour[1:]],capacity)\n",
    "combined = np.array([inst.tour[1:], [inst.demands[c] for c in inst.tour[1:]]])\n",
    "print('\\nTour (Row 1), Demand (Row 2):')\n",
    "print(combined)\n",
    "print('\\nRealized trips:', *segments, sep=\"\\n\")\n",
    "print('\\nTrip count:\\t', get_trip_count(segments))\n",
    "print('Radial cost:\\t', sum([get_radial_cost(inst,seg) for seg in segments]).round(1))\n",
    "print('Circular cost:\\t', sum([get_circular_cost(inst,seg) for seg in segments]).round(1))\n",
    "print('Total cost:\\t', sum([get_total_cost(inst,seg) for seg in segments]).round(1))"
   ]
  },
  {
   "cell_type": "markdown",
   "metadata": {},
   "source": [
    "#### d) Reoptimization"
   ]
  },
  {
   "cell_type": "code",
   "execution_count": 296,
   "metadata": {},
   "outputs": [
    {
     "name": "stdout",
     "output_type": "stream",
     "text": [
      "--- REOPTIMIZATION (SDVRP) ---\n",
      "\n",
      "Tour (Row 1), Demand (Row 2):\n",
      "[[ 5  8  6  1  9  3  7  2  4 10]\n",
      " [ 7  0  4  7  3  7  2  0  0  2]]\n",
      "\n",
      "Trip count:\t 2\n",
      "Radial cost:\t 166.2\n",
      "Circular cost:\t 288.3\n",
      "Total cost:\t 454.6\n"
     ]
    }
   ],
   "source": [
    "print('--- REOPTIMIZATION (SDVRP) ---')\n",
    "segments = solve_SDVRP(inst, capacity)\n",
    "combined = np.array([inst.tour[1:], [inst.demands[c] for c in inst.tour[1:]]])\n",
    "print('\\nTour (Row 1), Demand (Row 2):')\n",
    "print(combined)\n",
    "print('\\nTrip count:\\t', get_trip_count(segments))\n",
    "print('Radial cost:\\t', sum([get_radial_cost(inst,seg) for seg in segments]).round(1))\n",
    "print('Circular cost:\\t', sum([get_circular_cost(inst,seg) for seg in segments]).round(1))\n",
    "print('Total cost:\\t', sum([get_total_cost(inst,seg) for seg in segments]).round(1))"
   ]
  }
 ],
 "metadata": {
  "kernelspec": {
   "display_name": "Python 3",
   "language": "python",
   "name": "python3"
  },
  "language_info": {
   "codemirror_mode": {
    "name": "ipython",
    "version": 3
   },
   "file_extension": ".py",
   "mimetype": "text/x-python",
   "name": "python",
   "nbconvert_exporter": "python",
   "pygments_lexer": "ipython3",
   "version": "3.7.6"
  }
 },
 "nbformat": 4,
 "nbformat_minor": 4
}
