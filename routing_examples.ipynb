{
 "cells": [
  {
   "cell_type": "markdown",
   "metadata": {},
   "source": [
    "# Simulation of Flexible Vehicle Routing"
   ]
  },
  {
   "cell_type": "markdown",
   "metadata": {},
   "source": [
    "## A. Setup"
   ]
  },
  {
   "cell_type": "code",
   "execution_count": 92,
   "metadata": {},
   "outputs": [
    {
     "name": "stdout",
     "output_type": "stream",
     "text": [
      "3.7.6 | packaged by conda-forge | (default, Mar 23 2020, 22:45:16) \n",
      "[Clang 9.0.1 ]\n"
     ]
    }
   ],
   "source": [
    "import sys\n",
    "import numpy as np\n",
    "import pandas as pd\n",
    "import math\n",
    "import random\n",
    "import time\n",
    "import matplotlib.pyplot as plt\n",
    "#from concorde.tsp import TSPSolver\n",
    "from ortools.constraint_solver import routing_enums_pb2\n",
    "from ortools.constraint_solver import pywrapcp\n",
    "print(sys.version)"
   ]
  },
  {
   "cell_type": "code",
   "execution_count": 93,
   "metadata": {},
   "outputs": [],
   "source": [
    "# GLOBAL VARIABLES\n",
    "field_width = 100 # Customer location has x-coordinate in (0, field_width)\n",
    "field_height = 100 # Customer location has y-coordinate in (0, field_height)\n",
    "depot_x = 50 # Depot x-coordinate\n",
    "depot_y = 50 # Depot y-coordinate"
   ]
  },
  {
   "cell_type": "markdown",
   "metadata": {},
   "source": [
    "## B. Classes and methods"
   ]
  },
  {
   "cell_type": "markdown",
   "metadata": {},
   "source": [
    "### Instance class for random demands and locations"
   ]
  },
  {
   "cell_type": "code",
   "execution_count": 94,
   "metadata": {},
   "outputs": [],
   "source": [
    "class Instance():\n",
    "    \"\"\"A realized set of node locations and demands and the resulting routing characteristics.\"\"\"\n",
    "    def __init__(self, xlocs, ylocs, demands, solve_TSP=True):\n",
    "\n",
    "        self.size = len(demands)-1\n",
    "        self.demands = demands\n",
    "        self.xlocs = xlocs\n",
    "        self.ylocs = ylocs\n",
    "        self.distances = self.calc_distance_matrix()\n",
    "        self.optimal_routes = 'None'\n",
    "        self.tour = 'None'\n",
    "        if solve_TSP:\n",
    "            #self.tour = self.solve_TSP()\n",
    "            #self.tour = self.TSP_heuristic()\n",
    "            self.tour = self.solve_TSP()\n",
    "            \n",
    "    def calc_distance_matrix(self):\n",
    "        \"\"\"Returns a matrix with pairwise node distances\"\"\"\n",
    "        distances = np.zeros((self.size+1, self.size+1), dtype=float)\n",
    "        for i in range(self.size+1):\n",
    "            for j in range(self.size+1):\n",
    "                new_dist = math.sqrt((self.xlocs[i]-self.xlocs[j])**2 + (self.ylocs[i]-self.ylocs[j])**2)\n",
    "                distances[i,j] = new_dist\n",
    "        return distances\n",
    "\n",
    "    def update_demands(self, demands):\n",
    "        self.demands = demands\n",
    "    \n",
    "    def update_tour(self, tour):\n",
    "        self.tour = tour\n",
    "        \n",
    "    def get_lowerbound(self, capacity):\n",
    "        \"\"\"Returns a theoretical lowerbound on the optimal routing cost\"\"\"\n",
    "        return (2/capacity) * sum([self.demands[i]*self.distances[0,i]\n",
    "                                        for i in range(len(self.demands))])\n",
    "    \n",
    "    def get_fleet_size(self, route_size):\n",
    "        \"\"\"Returns the number of vehicles needed to visit all nodes given a fixed route size\"\"\"\n",
    "        assert self.size % route_size == 0, \"Number of customers must be evenly divisible by the route size.\"\n",
    "        return int(self.size / route_size)\n",
    "    \n",
    "    def save_optimal_routes(self, route_list):\n",
    "        self.optimal_routes = route_list\n",
    "        \n",
    "    def solve_TSP(self):\n",
    "\n",
    "        def create_data_model():\n",
    "            data = {}\n",
    "            data['distance_matrix'] = self.distances\n",
    "            data['num_vehicles'] = 1\n",
    "            data['depot'] = 0\n",
    "            return data\n",
    "\n",
    "        def get_tour(manager, routing, solution):\n",
    "            index = routing.Start(0)\n",
    "            plan_output = ''\n",
    "            while not routing.IsEnd(index):\n",
    "                plan_output += '{},'.format(manager.IndexToNode(index))\n",
    "                previous_index = index\n",
    "                index = solution.Value(routing.NextVar(index))\n",
    "            plan_output += '{}'.format(manager.IndexToNode(index))\n",
    "            as_list = plan_output.split(',')\n",
    "            return [int(i) for i in as_list][:-1] # excludes return to depot in tour \n",
    "\n",
    "        # --- RUN PROGRAM ---\n",
    "\n",
    "        # Instantiate the data problem.\n",
    "        data = create_data_model()\n",
    "\n",
    "        # Create the routing index manager.\n",
    "        manager = pywrapcp.RoutingIndexManager(len(data['distance_matrix']),\n",
    "                                               data['num_vehicles'], data['depot'])\n",
    "\n",
    "        # Create Routing Model.\n",
    "        routing = pywrapcp.RoutingModel(manager)\n",
    "\n",
    "\n",
    "        def distance_callback(from_index, to_index):\n",
    "            \"\"\"Returns the distance between the two nodes.\"\"\"\n",
    "            # Convert from routing variable Index to distance matrix NodeIndex.\n",
    "            from_node = manager.IndexToNode(from_index)\n",
    "            to_node = manager.IndexToNode(to_index)\n",
    "            return data['distance_matrix'][from_node][to_node]\n",
    "\n",
    "        transit_callback_index = routing.RegisterTransitCallback(distance_callback)\n",
    "\n",
    "        # Define cost of each arc.\n",
    "        routing.SetArcCostEvaluatorOfAllVehicles(transit_callback_index)\n",
    "\n",
    "        # Setting first solution heuristic.\n",
    "        search_parameters = pywrapcp.DefaultRoutingSearchParameters()\n",
    "        search_parameters.first_solution_strategy = (\n",
    "            routing_enums_pb2.FirstSolutionStrategy.PATH_CHEAPEST_ARC)\n",
    "\n",
    "        # Solve the problem.\n",
    "        solution = routing.SolveWithParameters(search_parameters)\n",
    "        return get_tour(manager, routing, solution)"
   ]
  },
  {
   "cell_type": "markdown",
   "metadata": {},
   "source": [
    "### Cost measures"
   ]
  },
  {
   "cell_type": "code",
   "execution_count": 95,
   "metadata": {},
   "outputs": [],
   "source": [
    "def get_trip_count(route_list):\n",
    "    \"\"\"Returns number of trips in route list\"\"\"\n",
    "    assert type(route_list[0]) == list, \"route_list must be a list of lists (routes)\"\n",
    "    count = 0\n",
    "    for route in route_list:\n",
    "        if route != []:\n",
    "            count += 1\n",
    "    return count\n",
    "    \n",
    "def get_circular_cost(inst,segment):\n",
    "    \"\"\"Returns the total distance of moving from node to node within the given segment\"\"\"\n",
    "    if len(segment) == 0:\n",
    "        return 0.0\n",
    "    else:\n",
    "        return sum([inst.distances[segment[i],segment[i+1]] for i in range(len(segment)-1)])\n",
    "\n",
    "def get_radial_cost(inst,segment):\n",
    "    \"\"\"Returns the total distance of trips to/from the depot at segment endpoints.\"\"\"\n",
    "    if len(segment) == 0:\n",
    "        return 0.0\n",
    "    else:\n",
    "        return inst.distances[0,segment[0]] + inst.distances[0,segment[-1]]\n",
    "\n",
    "def get_total_cost(inst,segment):\n",
    "    \"\"\"Returns sum of circular and radial costs for the given segment\"\"\"\n",
    "    return get_circular_cost(inst,segment)+get_radial_cost(inst,segment)"
   ]
  },
  {
   "cell_type": "markdown",
   "metadata": {},
   "source": [
    "### VRP solver\n",
    "Using Google OR-Tools."
   ]
  },
  {
   "cell_type": "code",
   "execution_count": 215,
   "metadata": {},
   "outputs": [],
   "source": [
    "def optimize(inst, capacity):\n",
    "\n",
    "    def create_data_model(inst, capacity):\n",
    "        data = {}\n",
    "        data['distance_matrix'] = inst.distances\n",
    "        data['demands'] = inst.demands\n",
    "        data['vehicle_capacities'] = [capacity]*inst.size\n",
    "        data['num_vehicles'] = inst.size\n",
    "        data['depot'] = 0\n",
    "        return data\n",
    "\n",
    "    def get_routes(solution, routing, manager):\n",
    "        \"\"\"Get vehicle routes from a solution and store them in an array.\"\"\"\n",
    "        # Get vehicle routes and store them in a two dimensional array whose\n",
    "        # i,j entry is the jth location visited by vehicle i along its route.\n",
    "        routes = []\n",
    "        for route_nbr in range(routing.vehicles()):\n",
    "            index = routing.Start(route_nbr)\n",
    "            route = [manager.IndexToNode(index)]\n",
    "            while not routing.IsEnd(index):\n",
    "                index = solution.Value(routing.NextVar(index))\n",
    "                route.append(manager.IndexToNode(index))\n",
    "            routes.append(route)\n",
    "        return routes\n",
    "\n",
    "    def distance_callback(from_index, to_index):\n",
    "        \"\"\"Returns the distance between the two nodes.\"\"\"\n",
    "        # Convert from routing variable Index to distance matrix NodeIndex.\n",
    "        from_node = manager.IndexToNode(from_index)\n",
    "        to_node = manager.IndexToNode(to_index)\n",
    "        return data['distance_matrix'][from_node][to_node]\n",
    "    \n",
    "    def demand_callback(from_index):\n",
    "        \"\"\"Returns the demand of the node.\"\"\"\n",
    "        # Convert from routing variable Index to demands NodeIndex.\n",
    "        from_node = manager.IndexToNode(from_index)\n",
    "        return data['demands'][from_node]\n",
    "    \n",
    "    \n",
    "    # --- RUN PROGRAM ---\n",
    "\n",
    "    # Zero cost if no demands\n",
    "    if all(dem == 0 for dem in inst.demands):\n",
    "        #return (0, 0)\n",
    "        return [[]]\n",
    "\n",
    "    # Set up data model\n",
    "    data = create_data_model(inst, capacity)\n",
    "    \n",
    "    # Create the routing index manager\n",
    "    manager = pywrapcp.RoutingIndexManager(len(data['distance_matrix']), data['num_vehicles'], data['depot'])\n",
    "    \n",
    "    # Create routing model\n",
    "    routing = pywrapcp.RoutingModel(manager)\n",
    "\n",
    "    # Create and register a transit callback\n",
    "    transit_callback_index = routing.RegisterTransitCallback(distance_callback)\n",
    "\n",
    "    # Define cost of each arc\n",
    "    routing.SetArcCostEvaluatorOfAllVehicles(transit_callback_index)\n",
    "\n",
    "    # Add capacity constraint\n",
    "    demand_callback_index = routing.RegisterUnaryTransitCallback(demand_callback)\n",
    "    routing.AddDimensionWithVehicleCapacity(\n",
    "        demand_callback_index,\n",
    "        0,  # null capacity slack\n",
    "        data['vehicle_capacities'],  # vehicle maximum capacities\n",
    "        True,  # start cumul to zero\n",
    "        'Capacity')\n",
    "\n",
    "    # Setting first solution heuristic\n",
    "    search_parameters = pywrapcp.DefaultRoutingSearchParameters()\n",
    "    search_parameters.first_solution_strategy = (\n",
    "        routing_enums_pb2.FirstSolutionStrategy.PATH_CHEAPEST_ARC)\n",
    "\n",
    "    # Solve the problem\n",
    "    solution = routing.SolveWithParameters(search_parameters)\n",
    "    all_routes = get_routes(solution, routing, manager)\n",
    "    print(all_routes)\n",
    "    nonempty_routes = [route for route in all_routes if not all(i == 0 for i in route)]\n",
    "    \n",
    "    # Remove the depot from the optimal routes\n",
    "    parsed_routes = [route[1:-1] for route in nonempty_routes]\n",
    "    \n",
    "    return parsed_routes\n",
    "    \n",
    "def solve_SDVRP(inst, capacity):\n",
    "    \"\"\"Creates equivalent demand/location instance with unit demand and solves the VRP with splittable demands\"\"\"\n",
    "    # Create equivalent instance with unit demand customers\n",
    "    split_xlocs = [[depot_x]] + [[inst.xlocs[i]]*inst.demands[i] for i in range(1,len(inst.demands))]\n",
    "    split_xlocs = [v for sublist in split_xlocs for v in sublist]\n",
    "\n",
    "    split_ylocs = [[depot_y]] + [[inst.ylocs[i]]*inst.demands[i] for i in range(1,len(inst.demands))]\n",
    "    split_ylocs = [v for sublist in split_ylocs for v in sublist]\n",
    "\n",
    "    split_demands = [[0]] + [[1]*inst.demands[i] for i in range(1,len(inst.demands))]\n",
    "    split_demands = [v for sublist in split_demands for v in sublist]\n",
    "    \n",
    "    split_inst = Instance(split_xlocs, split_ylocs, split_demands, solve_TSP=False)\n",
    "\n",
    "    # Solve VRP with unit demand customers\n",
    "    vrp = optimize(split_inst, capacity)\n",
    "\n",
    "    # Convert back to non-unit demand problem\n",
    "    # to get SDVRP solution for original instance\n",
    "    ids = [[i]*inst.demands[i] for i in range(1,len(inst.demands))]\n",
    "    ids = [v for sublist in ids for v in sublist]\n",
    "    #print('Demands: {}'.format(inst.demands))\n",
    "    print('IDs: {}'.format(ids))\n",
    "    if ids == []:\n",
    "        return [[]] # No routes\n",
    "    else:\n",
    "        sdvrp = [[ids[c-1] for c in route] for route in vrp]\n",
    "   \n",
    "    return sdvrp\n",
    "\n",
    "def solve_VRP(inst, capacity):\n",
    "    # Create equivalent instance EXCLUDING customers with zero demand\n",
    "    xlocs = [depot_x] + [inst.xlocs[i] for i in range(1,len(inst.demands)) if inst.demands[i] != 0]\n",
    "    ylocs = [depot_y] + [inst.ylocs[i] for i in range(1,len(inst.demands)) if inst.demands[i] != 0]\n",
    "    dems = [0] + [inst.demands[i]  for i in range(1,len(inst.demands)) if inst.demands[i] != 0]\n",
    "    \n",
    "    new_inst = Instance(xlocs, ylocs, dems, solve_TSP=False)\n",
    "\n",
    "    # Solve VRP\n",
    "    vrp = optimize(new_inst, capacity)\n",
    "    return vrp\n",
    "    # Convert back to non-unit demand problem\n",
    "    # to get SDVRP solution for original instance\n",
    "    ids = [[i]*inst.demands[i] for i in range(1,len(inst.demands))]\n",
    "    ids = [v for sublist in ids for v in sublist]\n",
    "    #print('Demands: {}'.format(inst.demands))\n",
    "    print('IDs: {}'.format(ids))\n",
    "    if ids == []:\n",
    "        return [[]] # No routes\n",
    "    else:\n",
    "        sdvrp = [[ids[c-1] for c in route] for route in vrp]\n",
    "   \n",
    "    return sdvrp"
   ]
  },
  {
   "cell_type": "code",
   "execution_count": 209,
   "metadata": {},
   "outputs": [
    {
     "name": "stdout",
     "output_type": "stream",
     "text": [
      "Tour (Row 1), Demand (Row 2):\n",
      "[[1 2 5 3 4]\n",
      " [3 3 3 0 0]]\n"
     ]
    },
    {
     "data": {
      "image/png": "[encoded data removed]",
      "text/plain": [
       "<Figure size 432x288 with 1 Axes>"
      ]
     },
     "metadata": {
      "needs_background": "light"
     },
     "output_type": "display_data"
    }
   ],
   "source": [
    "combined = np.array([inst.tour[1:], [inst.demands[c] for c in inst.tour[1:]]])\n",
    "print('Tour (Row 1), Demand (Row 2):')\n",
    "print(combined)\n",
    "plot_instance(inst, showLabels=True)"
   ]
  },
  {
   "cell_type": "code",
   "execution_count": 216,
   "metadata": {},
   "outputs": [
    {
     "name": "stdout",
     "output_type": "stream",
     "text": [
      "--- REOPTIMIZATION (VRP) ---\n",
      "[[0, 1, 0], [0, 2, 0], [0, 3, 0]]\n",
      "[[1], [2], [3]]\n",
      "Total cost:\t 255.5\n",
      "\n",
      "Realized trips:\n"
     ]
    },
    {
     "data": {
      "image/png": "[encoded data removed]",
      "text/plain": [
       "<Figure size 648x216 with 3 Axes>"
      ]
     },
     "metadata": {
      "needs_background": "light"
     },
     "output_type": "display_data"
    }
   ],
   "source": [
    "print('--- REOPTIMIZATION (VRP) ---')\n",
    "segments = solve_VRP(inst, capacity)\n",
    "print(segments)\n",
    "print('Total cost:\\t', np.round(sum([get_total_cost(inst,seg) for seg in segments]), 1))\n",
    "print()\n",
    "print('Realized trips:')\n",
    "plot_routes(inst, segments, 'blue')"
   ]
  },
  {
   "cell_type": "code",
   "execution_count": 217,
   "metadata": {},
   "outputs": [
    {
     "name": "stdout",
     "output_type": "stream",
     "text": [
      "--- REOPTIMIZATION (SDVRP) ---\n",
      "[[0, 0], [0, 0], [0, 0], [0, 0], [0, 0], [0, 0], [0, 0], [0, 4, 9, 8, 7, 0], [0, 6, 5, 1, 3, 2, 0]]\n",
      "IDs: [1, 1, 1, 2, 2, 2, 5, 5, 5]\n",
      "[[2, 5, 5, 5], [2, 2, 1, 1, 1]]\n",
      "Total cost:\t 203.6\n",
      "\n",
      "Realized trips:\n"
     ]
    },
    {
     "data": {
      "image/png": "[encoded data removed]",
      "text/plain": [
       "<Figure size 432x216 with 2 Axes>"
      ]
     },
     "metadata": {
      "needs_background": "light"
     },
     "output_type": "display_data"
    }
   ],
   "source": [
    "print('--- REOPTIMIZATION (SDVRP) ---')\n",
    "segments = solve_SDVRP(inst, capacity)\n",
    "print(segments)\n",
    "print('Total cost:\\t', np.round(sum([get_total_cost(inst,seg) for seg in segments]), 1))\n",
    "print()\n",
    "print('Realized trips:')\n",
    "plot_routes(inst, segments, 'blue')"
   ]
  },
  {
   "cell_type": "markdown",
   "metadata": {},
   "source": [
    "### Routing algorithms and helper methods"
   ]
  },
  {
   "cell_type": "markdown",
   "metadata": {},
   "source": [
    "Create a priori routes"
   ]
  },
  {
   "cell_type": "code",
   "execution_count": 97,
   "metadata": {},
   "outputs": [],
   "source": [
    "def get_primary_routes(inst, route_size):\n",
    "    \"\"\"Splits customer sequence into segments of 'route_size' number of customers\"\"\"\n",
    "    \n",
    "    tour =  inst.tour[1:] # Exclude depot\n",
    "    routes = []\n",
    "    for i in range(0,len(tour),route_size):\n",
    "        new_route = tour[i:i+route_size]\n",
    "        routes.append(new_route)\n",
    "    return routes\n",
    "\n",
    "def get_extended_routes(inst, route_size, overlap_size):\n",
    "    \"\"\"Splits customer sequnce into segments of 'route_size + overlap_size' number of customers, where adjacent\n",
    "    segments SHARE overlap_size number of customers.\"\"\"\n",
    "    tour = inst.tour[1:]\n",
    "    routes = []\n",
    "    for i in range(0,len(tour),route_size):\n",
    "        new_route = tour[i:i+route_size+overlap_size]\n",
    "        routes.append(new_route)\n",
    "    return routes"
   ]
  },
  {
   "cell_type": "markdown",
   "metadata": {},
   "source": [
    "Get realized trips between depot visits"
   ]
  },
  {
   "cell_type": "code",
   "execution_count": 98,
   "metadata": {},
   "outputs": [],
   "source": [
    "def create_full_trips(inst, route_list, capacity, demand_filled = None):\n",
    "    \"\"\"Splits a sequence of customers into individual trips. Returns a list of lists.\"\"\"\n",
    "    \n",
    "    assert type(route_list[0]) == list, \"route_list must be a list of lists (routes)\"\n",
    "\n",
    "    # Dictionary for tracking remaining demand filled at all customers\n",
    "    remaining_demand = dict([(inst.tour[i],inst.demands[inst.tour[i]]) for i in range(1,len(inst.tour))])\n",
    "\n",
    "    segments = []\n",
    "    for m in range(len(route_list)):\n",
    "        i = 0\n",
    "        seg_dict = {} # demand filled on current trip\n",
    "        vehicle_dict = dict([(inst.tour[i],0) for i in range(1,len(inst.tour))]) # total demand filled by vehicle on this route\n",
    "        while i < len(route_list[m]):\n",
    "            cust = route_list[m][i]\n",
    "            for d in range(inst.demands[cust]):\n",
    "                #print(dict([(c,vehicle_dict[c]) for c in vehicle_dict if vehicle_dict[c]!=0]))\n",
    "                #print(dict([(c,seg_dict[c]) for c in seg_dict if seg_dict[c]!=0]))\n",
    "                \n",
    "                if demand_filled != None and sum(vehicle_dict.values()) == demand_filled[m]:\n",
    "                    # Route's vehicle achieved its predetermined workload (if applicable)\n",
    "                    # Force to end this route and move to next\n",
    "                    i = len(route_list[m])\n",
    "                    break\n",
    "                    \n",
    "                elif sum(remaining_demand[c] for c in route_list[m]) == 0:\n",
    "                    # Route is completed\n",
    "                    # Force to end this route and move to next\n",
    "                    i = len(route_list[m])\n",
    "                    break\n",
    "                \n",
    "                elif sum(seg_dict.values()) == capacity:\n",
    "                    # Vehicle is at capacity\n",
    "                    # End current trip, and begin a new trip within this route\n",
    "                    segments.append(list(seg_dict))\n",
    "                    seg_dict = {cust: 1}\n",
    "                    vehicle_dict[cust] += 1\n",
    "                    remaining_demand[cust] -= 1\n",
    "                    \n",
    "                elif remaining_demand[cust] > 0:\n",
    "                    if cust not in seg_dict:\n",
    "                        # Begin service\n",
    "                        seg_dict[cust] = 1 \n",
    "                    else:\n",
    "                        # Continue service\n",
    "                        seg_dict[cust] += 1\n",
    "                    vehicle_dict[cust] += 1\n",
    "                    remaining_demand[cust] -= 1\n",
    "                \n",
    "            i+=1 # Moves to next customer\n",
    "        \n",
    "        # Append route's last segment\n",
    "        segments.append(list(seg_dict))\n",
    "\n",
    "    return segments"
   ]
  },
  {
   "cell_type": "markdown",
   "metadata": {},
   "source": [
    "Algorithm for overlapped routing recourse"
   ]
  },
  {
   "cell_type": "code",
   "execution_count": 99,
   "metadata": {},
   "outputs": [],
   "source": [
    "def implement_k_overlapped_alg(inst, primary_routes, extended_routes, capacity, route_size, overlap_size):\n",
    "    \"\"\"Implement's general k-overlapped routing algorithm. Returns list of realized vehicle routes. \"\"\"\n",
    "    assert type(primary_routes[0]) == list, \"primary_routes must be a list of lists (routes)\"\n",
    "    assert type(extended_routes[0]) == list, \"extended_routes must be a list of lists (routes)\"\n",
    "\n",
    "    # Get overlapped segments (note that last route does not have any shared customers at the route's end)\n",
    "    overlapped_segments = []\n",
    "    for j in range(len(primary_routes)-1):\n",
    "        new_segment = [c for c in extended_routes[j] if c not in primary_routes[j]]\n",
    "        overlapped_segments.append(new_segment)\n",
    "\n",
    "    # Initialize arrays\n",
    "    primary_demands = np.asarray([sum(inst.demands[cust] for cust in route) for route in primary_routes]) # a priori primary route demand for each vehicle\n",
    "    extended_demands = np.asarray([sum(inst.demands[cust] for cust in route) for route in extended_routes]) # a priori extended route demand for each vehicle                            \n",
    "    overlap_demands = extended_demands - primary_demands # demands of customers in k-overlapped regions for each vehicle\n",
    "                                    \n",
    "    first = np.asarray([route[0] for route in primary_routes]) # first customer in route for each vehicle\n",
    "    last = np.asarray([route[-1] for route in overlapped_segments] + [inst.tour[-1]])\n",
    "\n",
    "    excess = np.zeros(len(primary_routes)) # surplus capacity for each vehicle (updated below)\n",
    "    workload = np.zeros(len(primary_routes)) # demand ultimately filled by each vehicle (updated below)\n",
    "    \n",
    "    realized_routes = []\n",
    "    \n",
    "    # Loop through vehicles\n",
    "    for j in range(len(primary_routes)):\n",
    "        \n",
    "        if j == 0:\n",
    "            workload[j] = primary_demands[j] \n",
    "        else:\n",
    "            workload[j] = max(0, primary_demands[j] - excess[j-1])\n",
    "        \n",
    "        excess[j] = min(capacity * np.ceil(float(workload[j]) / capacity) - workload[j], overlap_demands[j])\n",
    "        remaining_surplus = excess[j]\n",
    "        \n",
    "        i = 0\n",
    "        while remaining_surplus > 0:\n",
    "            if i < len(overlapped_segments[j]):\n",
    "                # fill demand of next shared customer\n",
    "                # override default first and last customer if appropriate\n",
    "                remaining_surplus -= inst.demands[overlapped_segments[j][i]]\n",
    "                # set first and last customers\n",
    "                if remaining_surplus == 0:\n",
    "                    last[j] = overlapped_segments[j][i]\n",
    "                    if i != len(overlapped_segments[j]) - 1:\n",
    "                        first[j+1] = overlapped_segments[j][i+1]\n",
    "                    else:\n",
    "                        first[j+1] = 0 # next vehicle doesn't need to leave depot\n",
    "                elif remaining_surplus < 0:\n",
    "                    # vehicles will split this customer\n",
    "                    last[j] = overlapped_segments[j][i]\n",
    "                    first[j+1] = overlapped_segments[j][i]\n",
    "            i += 1\n",
    "\n",
    "    # Determine realized routes based on updated first and last customers\n",
    "    realized_routes = []\n",
    "    for j in range(len(primary_routes)):\n",
    "        \n",
    "        # Create vehicle route\n",
    "        if first[j] == 0:\n",
    "            route = [] # vehicle doesn't leave depot\n",
    "        else:\n",
    "            first_index = inst.tour.index(first[j])\n",
    "            last_index = inst.tour.index(last[j])\n",
    "            route = inst.tour[first_index:last_index+1]\n",
    "        \n",
    "        # Append to realized routes\n",
    "        realized_routes.append(route)\n",
    "    \n",
    "    # Create full trips (i.e., segments) from realized routes\n",
    "    demand_filled = [workload[j]+excess[j] for j in range(len(primary_routes))]\n",
    "    segments = create_full_trips(inst, realized_routes, capacity, demand_filled)\n",
    "    \n",
    "    #print('First: {}'.format(first))\n",
    "    #print('Last: {}'.format(last))\n",
    "    #print('Workload: {}'.format(workload))\n",
    "    #print('Excess: {}'.format(excess))\n",
    "    #print('Demand Filled: {}'.format(demand_filled))\n",
    "\n",
    "    return segments"
   ]
  },
  {
   "cell_type": "markdown",
   "metadata": {},
   "source": [
    "## C. Plotting Functions"
   ]
  },
  {
   "cell_type": "code",
   "execution_count": 100,
   "metadata": {},
   "outputs": [],
   "source": [
    "def plot_instance(inst, showTour=False, showLabels=False):\n",
    "    \"\"\"\n",
    "    Plots the instance's tour through all customers.\n",
    "    \"\"\"\n",
    "\n",
    "    # Set field dimensions\n",
    "    plt.ylim(ymin=0,ymax=100)\n",
    "    plt.xlim(xmin=0,xmax=100)\n",
    "    \n",
    "    \n",
    "    # Plot customer and depot locations\n",
    "    plt.plot(inst.xlocs[1:], inst.ylocs[1:], 'ko', markersize=4)\n",
    "    plt.plot(depot_x, depot_y, 'k*', markersize=9)\n",
    "   \n",
    "    if showTour:\n",
    "        # Plot the TSP path through the customers\n",
    "        tour_x = [inst.xlocs[c] for c in inst.tour] + [depot_x]\n",
    "        tour_y = [inst.ylocs[c] for c in inst.tour] + [depot_y]\n",
    "        plt.plot(tour_x, tour_y, color='gray', linestyle='-')\n",
    "\n",
    "    if showLabels:\n",
    "        # Add customer labels\n",
    "        for i in range(len(inst.tour)):\n",
    "            plt.annotate(i, # Label text\n",
    "                         (inst.xlocs[i], inst.ylocs[i]), # Point to label\n",
    "                         textcoords=\"offset points\",\n",
    "                         xytext=(0,5), # Distance from text to points (x,y)\n",
    "                         ha='center')\n",
    "\n",
    "    plt.show()"
   ]
  },
  {
   "cell_type": "code",
   "execution_count": 107,
   "metadata": {},
   "outputs": [],
   "source": [
    "def plot_routes(inst, routes, route_color, showTour=False):\n",
    "    \n",
    "    assert type(routes) == list\n",
    "    if all(route == [] for route in routes):\n",
    "        return\n",
    "    \n",
    "    routes = [routes[a] for a in range(len(routes)) if routes[a] != []]\n",
    "    num_plots = len(routes)\n",
    "    tour_x = [inst.xlocs[c] for c in inst.tour] + [depot_x]\n",
    "    tour_y = [inst.ylocs[c] for c in inst.tour] + [depot_y]\n",
    "    \n",
    "    fig, axs = plt.subplots(1, num_plots, figsize=(3*num_plots,3))\n",
    "    \n",
    "    for a in range(num_plots):\n",
    "        if num_plots > 1:\n",
    "            ax = axs.flat[a]\n",
    "        else:\n",
    "            ax = axs\n",
    "        ax.set_ylim(ymin=0,ymax=100)\n",
    "        ax.set_xlim(xmin=0,xmax=100)\n",
    "        ax.plot(inst.xlocs[1:], inst.ylocs[1:], 'ko', markersize=4)\n",
    "        ax.plot(depot_x, depot_y, 'k*', markersize=9)\n",
    "        if showTour:\n",
    "            ax.plot(tour_x, tour_y, color='gray', linestyle='-')\n",
    "        route_x = [depot_x] + [inst.xlocs[c] for c in routes[a]] + [depot_x]\n",
    "        route_y = [depot_y] + [inst.ylocs[c] for c in routes[a]] + [depot_y]\n",
    "        ax.plot(route_x, route_y, color=route_color, linestyle='-')\n",
    "    "
   ]
  },
  {
   "cell_type": "markdown",
   "metadata": {},
   "source": [
    "## D. Example Instance"
   ]
  },
  {
   "cell_type": "markdown",
   "metadata": {},
   "source": [
    "### 1) Set network parameters"
   ]
  },
  {
   "cell_type": "code",
   "execution_count": 116,
   "metadata": {},
   "outputs": [
    {
     "name": "stdout",
     "output_type": "stream",
     "text": [
      "--- PARAMETERS ---\n",
      "Num. of customers: 5, Demand range: [0,4], Veh. capacity: 5, Primary route size: 5, Overlap size: 5\n"
     ]
    }
   ],
   "source": [
    "num_cust = 5 # number of customers\n",
    "dmin = 0 # a customer's minimum random demand (for Uniform distribution)\n",
    "dmax = 4 # a customer's maximum random demand (for Uniform Distribution)\n",
    "capacity = 5 # vehicle capacity\n",
    "route_size = 5 # number of customers on a truck's primary route\n",
    "overlap_size = 5 # number of shared customers between two neighboring routes\n",
    "\n",
    "print('--- PARAMETERS ---')\n",
    "print('Num. of customers: {}, Demand range: [{},{}], Veh. capacity: {}, Primary route size: {}, Overlap size: {}'. \\\n",
    "      format(num_cust, dmin, dmax, capacity, route_size, overlap_size))"
   ]
  },
  {
   "cell_type": "markdown",
   "metadata": {},
   "source": [
    "### 2) Generate random instance"
   ]
  },
  {
   "cell_type": "code",
   "execution_count": 117,
   "metadata": {},
   "outputs": [
    {
     "data": {
      "image/png": "[encoded data removed]",
      "text/plain": [
       "<Figure size 432x288 with 1 Axes>"
      ]
     },
     "metadata": {
      "needs_background": "light"
     },
     "output_type": "display_data"
    }
   ],
   "source": [
    "cust_x = field_width*np.random.random(num_cust) # x coordintes of all customers\n",
    "cust_y = field_height*np.random.random(num_cust) # y coordinates of all customers\n",
    "cust_dems = list(np.random.randint(dmin,dmax,num_cust)) # Uniformly distributed customer demands\n",
    "xlocs = list(np.append([depot_x], cust_x)) # depot and customer x-coords\n",
    "ylocs = list(np.append([depot_y], cust_y)) # depot and customer y-coords\n",
    "demands = list(np.append([0], cust_dems)) # depot and customer demands\n",
    "inst = Instance(xlocs, ylocs, demands)\n",
    "plot_instance(inst, showLabels=True)"
   ]
  },
  {
   "cell_type": "markdown",
   "metadata": {},
   "source": [
    "### 3) Print instance summary"
   ]
  },
  {
   "cell_type": "code",
   "execution_count": 118,
   "metadata": {},
   "outputs": [
    {
     "name": "stdout",
     "output_type": "stream",
     "text": [
      "--- INSTANCE SUMMARY ---\n",
      "Number of customers: \t 5\n",
      "Vehicle capacity: \t 5\n",
      "Primary route size: \t 5\n",
      "Overlap size: \t\t 5\n",
      "Big TSP tour: \t\t [1, 2, 5, 3, 4]\n",
      "Tour demands: \t\t [3, 3, 3, 0, 0]\n",
      "Lowerbound Cost: \t 146\n",
      "\n",
      "TSP Tour:\n"
     ]
    },
    {
     "data": {
      "image/png": "[encoded data removed]",
      "text/plain": [
       "<Figure size 432x288 with 1 Axes>"
      ]
     },
     "metadata": {
      "needs_background": "light"
     },
     "output_type": "display_data"
    }
   ],
   "source": [
    "print('--- INSTANCE SUMMARY ---')\n",
    "print('Number of customers: \\t', inst.size)\n",
    "print('Vehicle capacity: \\t', capacity)\n",
    "print('Primary route size: \\t', route_size)\n",
    "print('Overlap size: \\t\\t', overlap_size)\n",
    "print('Big TSP tour: \\t\\t', inst.tour[1:])\n",
    "print('Tour demands: \\t\\t', [inst.demands[c] for c in inst.tour[1:]])\n",
    "print('Lowerbound Cost: \\t', int(inst.get_lowerbound(capacity)))\n",
    "print()\n",
    "print('TSP Tour:')\n",
    "plot_instance(inst, showTour=True, showLabels=True)"
   ]
  },
  {
   "cell_type": "markdown",
   "metadata": {},
   "source": [
    "### 4) Solve routing problem\n",
    "#### a) Dedicated routing strategy\n",
    "*The algorithm is described below:*\n",
    "- Identify a single tour through all *N* customers.\n",
    "- Split this sequence of *N* customers into into *M* \"primary\" route segments with equal number of customers (\"route_size\" or N' customers). This assumes *N* is divisible by *M*.\n",
    "- Assign a single vehicle (with capacity *Q*) to each route.\n",
    "- Get information on customers' updated (realized) demands\n",
    "- Upon learning demands, vehicle *m* executes its primary route *m* in the following manner.\n",
    "    - The vehicle departs from depot at full capacity.\n",
    "    - It sequentially visits the customers in its primary route, skipping customers that have 0 demand.\n",
    "    - Upon exhausting its capacity, the vehicle detours to the depot to refill to full capacity and resumes its route wherever it left off.\n",
    "    - Upon filling all customer demands in the primary route, the vehicle has completed its route and returns to the depot.\n"
   ]
  },
  {
   "cell_type": "code",
   "execution_count": 119,
   "metadata": {},
   "outputs": [
    {
     "name": "stdout",
     "output_type": "stream",
     "text": [
      "--- DEDICATED ROUTING ---\n",
      "\n",
      "Tour (Row 1), Demand (Row 2):\n",
      "[[1 2 5 3 4]\n",
      " [3 3 3 0 0]]\n",
      "\n",
      "A priori routes:\n",
      "[1, 2, 5, 3, 4]\n",
      "\n",
      "Realized trips:\n",
      "[1, 2]\n",
      "[2, 5]\n",
      "\n",
      "Trip count:\t 2\n",
      "Radial cost:\t 157.4\n",
      "Circular cost:\t 46.2\n",
      "Total cost:\t 203.6\n"
     ]
    }
   ],
   "source": [
    "print('--- DEDICATED ROUTING ---')\n",
    "primary_routes = get_primary_routes(inst, route_size)\n",
    "segments = create_full_trips(inst,primary_routes,capacity)\n",
    "combined = np.array([inst.tour[1:], [inst.demands[c] for c in inst.tour[1:]]])\n",
    "print('\\nTour (Row 1), Demand (Row 2):')\n",
    "print(combined)\n",
    "print('\\nA priori routes:', *primary_routes, sep=\"\\n\")\n",
    "print('\\nRealized trips:', *segments, sep=\"\\n\")\n",
    "print('\\nTrip count:\\t', get_trip_count(segments))\n",
    "print('Radial cost:\\t', np.round(sum([get_radial_cost(inst,seg) for seg in segments]), 1))\n",
    "print('Circular cost:\\t', np.round(sum([get_circular_cost(inst,seg) for seg in segments]), 1))\n",
    "print('Total cost:\\t', np.round(sum([get_total_cost(inst,seg) for seg in segments]), 1))"
   ]
  },
  {
   "cell_type": "code",
   "execution_count": 120,
   "metadata": {},
   "outputs": [
    {
     "name": "stdout",
     "output_type": "stream",
     "text": [
      "A priori routes (orange) vs. realized  trips (blue)\n"
     ]
    },
    {
     "data": {
      "image/png": "[encoded data removed]",
      "text/plain": [
       "<Figure size 216x216 with 1 Axes>"
      ]
     },
     "metadata": {
      "needs_background": "light"
     },
     "output_type": "display_data"
    },
    {
     "data": {
      "image/png": "[encoded data removed]",
      "text/plain": [
       "<Figure size 432x216 with 2 Axes>"
      ]
     },
     "metadata": {
      "needs_background": "light"
     },
     "output_type": "display_data"
    }
   ],
   "source": [
    "print('A priori routes (orange) vs. realized  trips (blue)')\n",
    "plot_routes(inst, primary_routes, 'orange', showTour=True)\n",
    "plot_routes(inst, segments, 'blue', showTour=True)"
   ]
  },
  {
   "cell_type": "markdown",
   "metadata": {},
   "source": [
    "#### b) Overlapped routing strategy\n",
    "\n",
    "*The algorithm is described below:*\n",
    "- Create primary routes as described above in dedicated routing.\n",
    "- Additionally, create extended routes by assigning each vehicle to all of the customers in its primary route plus some of the customers in a neighboring vehicle's primary route.\n",
    "    - Extended routes formed under \"full adjacent overlapping\" means vehicle $m$ is assigned to customers in primary route $m$ plus all customers in primary route $m+1$, for vehicles $m=1,2,...,M-1$.\n",
    "    - Alternatively, extended routes formed under \"partial adjacent overlapping\" means vehicle $m$ is assigned to customers in primary route $m$ plus $k$ additional customers in primary route $m+1$, for vehicles $m=1,2,...,M-1$.\n",
    "    - In both cases, vehicle $m=M$ is assigned to only its primary route.\n",
    "- Upon learning customer demands, vehicle *m* executes its extended route in the following manner.\n",
    "    - The vehicle departs from depot at full capacity.\n",
    "    - It sequentially visits the customers in its primary route, skipping customers that have 0 demand or demand that has already been filled. The vehicle reloads at the depot as needed.\n",
    "    - Upon filling demand of the final customer in the primary route, the vehicle either (a) permanently returns to the depot if no capacity remains or (b) proceeds with the customers in the extended route and fills those customer demands until the leftover vehicle capacity is exhausted, at which point the vehicle permanently returns to the depot.\n",
    "    - Vehicle *m+1* then starts primary route *m+1* wherever  vehicle *m* left off.\n",
    "    - However, in the case that vehicle *m-1* satisfied the demand of ALL customers in the extended route (meaning it covered all demand in vehicle *m*'s primary route), then vehicle *m* is never deployed. Instead vehicle *m+1* just starts its route at the beginning of primary route *m+1*.\n",
    "\n",
    "Note that a central planner assesses the realized customer demands and coordinate each vehicle's starting and ending customers (realized routes) within the extended route prior to the vehicle's departing the depot."
   ]
  },
  {
   "cell_type": "code",
   "execution_count": 121,
   "metadata": {},
   "outputs": [
    {
     "name": "stdout",
     "output_type": "stream",
     "text": [
      "--- OVERLAPPED ROUTING (Based on Algorithm) ---\n",
      "\n",
      "Tour (Row 1), Demand (Row 2):\n",
      "[[1 2 5 3 4]\n",
      " [3 3 3 0 0]]\n",
      "\n",
      "A priori routes:\n",
      "[1, 2, 5, 3, 4]\n",
      "\n",
      "Realized trips:\n",
      "[1, 2]\n",
      "[2, 5]\n",
      "\n",
      "Trip count:\t 2\n",
      "Radial cost:\t 157.4\n",
      "Circular cost:\t 46.2\n",
      "Total cost:\t 203.6\n"
     ]
    }
   ],
   "source": [
    "print('--- OVERLAPPED ROUTING (Based on Algorithm) ---')\n",
    "primary_routes = get_primary_routes(inst, route_size)\n",
    "extended_routes = get_extended_routes(inst, route_size, overlap_size)\n",
    "segments = implement_k_overlapped_alg(inst,primary_routes,extended_routes,capacity,route_size,overlap_size)\n",
    "combined = np.array([inst.tour[1:], [inst.demands[c] for c in inst.tour[1:]]])\n",
    "print('\\nTour (Row 1), Demand (Row 2):')\n",
    "print(combined)\n",
    "print('\\nA priori routes:', *extended_routes, sep=\"\\n\")\n",
    "print('\\nRealized trips:', *segments, sep=\"\\n\")\n",
    "print('\\nTrip count:\\t', get_trip_count(segments))\n",
    "print('Radial cost:\\t', np.round(sum([get_radial_cost(inst,seg) for seg in segments]), 1))\n",
    "print('Circular cost:\\t', np.round(sum([get_circular_cost(inst,seg) for seg in segments]), 1))\n",
    "print('Total cost:\\t', np.round(sum([get_total_cost(inst,seg) for seg in segments]), 1))"
   ]
  },
  {
   "cell_type": "code",
   "execution_count": 122,
   "metadata": {},
   "outputs": [
    {
     "name": "stdout",
     "output_type": "stream",
     "text": [
      "A priori routes (orange) vs. realized  trips (blue)\n"
     ]
    },
    {
     "data": {
      "image/png": "[encoded data removed]",
      "text/plain": [
       "<Figure size 216x216 with 1 Axes>"
      ]
     },
     "metadata": {
      "needs_background": "light"
     },
     "output_type": "display_data"
    },
    {
     "data": {
      "image/png": "[encoded data removed]",
      "text/plain": [
       "<Figure size 432x216 with 2 Axes>"
      ]
     },
     "metadata": {
      "needs_background": "light"
     },
     "output_type": "display_data"
    }
   ],
   "source": [
    "print('A priori routes (orange) vs. realized  trips (blue)')\n",
    "plot_routes(inst, extended_routes, 'orange', showTour=True)\n",
    "plot_routes(inst, segments, 'blue', showTour=True)"
   ]
  },
  {
   "cell_type": "markdown",
   "metadata": {},
   "source": [
    "#### c) Fully flexible routing strategy\n",
    "\n",
    "*The algorithm is described below:*\n",
    "- As in the dedicated and overlapped routing strategies, create a large tour through all customers.\n",
    "- Select a starting customer and send out a vehicle at full capacity to sequentially fill as much customer demand as possible.\n",
    "- The vehicle returns to the depot upon exhuasting its capacity, and the next vehicle continues with the customer sequence where the previous vehicle left off.\n",
    "\n",
    "\n",
    "Note that as in the overlapped routing strategies, demands are learned in advance, which means each truck's starting and ending customers can be determined prior to the day's deliveries so that vehicles can execute their realized routes simultaneously.\n",
    "\n",
    "Also note that this strategy differs from full reoptimization since the sequence of customer visits within individul trips is fixed. In reoptimization, on the other hand, an individual vehicle trip can consists of any of the *N* customers."
   ]
  },
  {
   "cell_type": "code",
   "execution_count": 123,
   "metadata": {},
   "outputs": [
    {
     "name": "stdout",
     "output_type": "stream",
     "text": [
      "--- FULLY FLEXIBLE ROUTING ---\n",
      "\n",
      "Tour (Row 1), Demand (Row 2):\n",
      "[[1 2 5 3 4]\n",
      " [3 3 3 0 0]]\n",
      "\n",
      "Realized trips:\n",
      "[1, 2]\n",
      "[2, 5]\n",
      "\n",
      "Trip count:\t 2\n",
      "Radial cost:\t 157.4\n",
      "Circular cost:\t 46.2\n",
      "Total cost:\t 203.6\n",
      "\n",
      "Realized trips:\n"
     ]
    },
    {
     "data": {
      "image/png": "[encoded data removed]",
      "text/plain": [
       "<Figure size 432x216 with 2 Axes>"
      ]
     },
     "metadata": {
      "needs_background": "light"
     },
     "output_type": "display_data"
    }
   ],
   "source": [
    "print('--- FULLY FLEXIBLE ROUTING ---')\n",
    "segments = create_full_trips(inst,[inst.tour[1:]],capacity)\n",
    "combined = np.array([inst.tour[1:], [inst.demands[c] for c in inst.tour[1:]]])\n",
    "print('\\nTour (Row 1), Demand (Row 2):')\n",
    "print(combined)\n",
    "print('\\nRealized trips:', *segments, sep=\"\\n\")\n",
    "print('\\nTrip count:\\t', get_trip_count(segments))\n",
    "print('Radial cost:\\t', np.round(sum([get_radial_cost(inst,seg) for seg in segments]), 1))\n",
    "print('Circular cost:\\t', np.round(sum([get_circular_cost(inst,seg) for seg in segments]), 1))\n",
    "print('Total cost:\\t', np.round(sum([get_total_cost(inst,seg) for seg in segments]), 1))\n",
    "print()\n",
    "print('Realized trips:')\n",
    "plot_routes(inst, segments, 'blue', showTour=True)"
   ]
  },
  {
   "cell_type": "markdown",
   "metadata": {},
   "source": [
    "#### d) Reoptimization"
   ]
  },
  {
   "cell_type": "code",
   "execution_count": 124,
   "metadata": {},
   "outputs": [
    {
     "name": "stdout",
     "output_type": "stream",
     "text": [
      "--- REOPTIMIZATION (SDVRP) ---\n",
      "\n",
      "Tour (Row 1), Demand (Row 2):\n",
      "[[1 2 5 3 4]\n",
      " [3 3 3 0 0]]\n",
      "\n",
      "Trip count:\t 2\n",
      "Radial cost:\t 157.4\n",
      "Circular cost:\t 46.2\n",
      "Total cost:\t 203.6\n",
      "\n",
      "Realized trips:\n"
     ]
    },
    {
     "data": {
      "image/png": "[encoded data removed]",
      "text/plain": [
       "<Figure size 432x216 with 2 Axes>"
      ]
     },
     "metadata": {
      "needs_background": "light"
     },
     "output_type": "display_data"
    }
   ],
   "source": [
    "print('--- REOPTIMIZATION (SDVRP) ---')\n",
    "combined = np.array([inst.tour[1:], [inst.demands[c] for c in inst.tour[1:]]])\n",
    "print('\\nTour (Row 1), Demand (Row 2):')\n",
    "print(combined)\n",
    "segments = solve_SDVRP(inst, capacity)\n",
    "print('\\nTrip count:\\t', get_trip_count(segments))\n",
    "print('Radial cost:\\t', np.round(sum([get_radial_cost(inst,seg) for seg in segments]), 1))\n",
    "print('Circular cost:\\t', np.round(sum([get_circular_cost(inst,seg) for seg in segments]), 1))\n",
    "print('Total cost:\\t', np.round(sum([get_total_cost(inst,seg) for seg in segments]), 1))\n",
    "print()\n",
    "print('Realized trips:')\n",
    "plot_routes(inst, segments, 'blue')"
   ]
  },
  {
   "cell_type": "markdown",
   "metadata": {},
   "source": [
    "#### e) Simulation Setup: Rotating Routes"
   ]
  },
  {
   "cell_type": "code",
   "execution_count": 84,
   "metadata": {},
   "outputs": [],
   "source": [
    "def create_instances(scenario, num_cust, cust_sims, dem_sims):\n",
    "    \"\"\"Returns cust_sims by dem_sims array of Instances\"\"\"\n",
    "\n",
    "    np.random.seed(1)\n",
    "\n",
    "    def gen_new_instance(num_cust, scenario):\n",
    "\n",
    "        # Generate customer locations\n",
    "        new_xlocs = field_width * np.random.random(num_cust)  # x coordinates of all customers\n",
    "        new_ylocs = field_height * np.random.random(num_cust)  # y coordinates of all customers\n",
    "\n",
    "        # Generate demands depending on scenario\n",
    "        if scenario in ['baseline', 'short_route']:\n",
    "            new_dems = list(np.random.randint(0, 8, num_cust))  # Uniformly distributed between 0 and 8\n",
    "\n",
    "        # Return new instance\n",
    "        new_xlocs = list(np.append([depot_x], new_xlocs))  # include depot in customer x-coords\n",
    "        new_ylocs = list(np.append([depot_y], new_ylocs))  # include depot in customer y-coords\n",
    "        new_dems = list(np.append([0], new_dems))  # include depot in customer demands\n",
    "        return Instance(new_xlocs, new_ylocs, new_dems)\n",
    "\n",
    "    def update_demands(inst, scenario):\n",
    "        # Creates copy of instance with updated demands depending on scenario\n",
    "        if scenario in ['baseline','short_route']:\n",
    "            new_dems = list(np.random.randint(0, 8, num_cust))  # Uniformly distributed between 0 and 8\n",
    "        new_dems = list(np.append([0], new_dems))  # include depot in customer demands\n",
    "        new_inst = Instance(inst.xlocs, inst.ylocs, new_dems, solve_TSP=False)\n",
    "        new_inst.tour = inst.tour\n",
    "        return new_inst\n",
    "\n",
    "    # Create instance array with new customer instances\n",
    "    instances = [[None for j in range(dem_sims)] for i in range(cust_sims)]\n",
    "    customer_instances = [gen_new_instance(num_cust, scenario) for i in range(cust_sims)]\n",
    "\n",
    "    # Create demand instances for each customer instance\n",
    "    for i in range(cust_sims):\n",
    "        for j in range(dem_sims):\n",
    "            instances[i][j] = update_demands(customer_instances[i], scenario)\n",
    "\n",
    "    return instances\n",
    "\n",
    "\n",
    "#---------------------------------------------------------------------------------\n",
    "\n",
    "def set_best_tours(demand_instances, primary_routes, extended_routes, capacity, route_size, overlap_size):\n",
    "    \"\"\"Updates the tour of all instances to the sequence that minimizes the average cost of the routes over all demand instances.\n",
    "    Assumes all instances in list demand_instances have identical customer locations.\"\"\"\n",
    "\n",
    "    # Get any customer instance\n",
    "    inst = demand_instances[0]\n",
    "    # Set current tour and cumulative cost over all demand instances as best so far\n",
    "    # Note: cumulative cost yields same tour ranking as average cost across demand instances\n",
    "    best_tour = inst.tour\n",
    "    segments = implement_k_overlapped_alg(inst, primary_routes, extended_routes, capacity, route_size, overlap_size)\n",
    "    lowest_cumul_cost = sum([get_total_cost(inst, seg) for seg in segments for inst in demand_instances])\n",
    "    print('Initial Tour: {}, Cost: {}'.format(best_tour, lowest_cumul_cost.round(2)))\n",
    "\n",
    "    # Copy of tour (for rotating below)\n",
    "    tour = inst.tour\n",
    "\n",
    "    # Loop over all customers\n",
    "    for c in range(inst.size):\n",
    "\n",
    "        # Rotate tour by one customer (keeps depot at very first spot)\n",
    "        tour = tour[0:1] + tour[2:] + tour[1:2]\n",
    "        inst.update_tour(tour)\n",
    "        tour_cost = 0\n",
    "        \n",
    "        # Get cumulative cost over all demand instances\n",
    "        for inst in demand_instances:\n",
    "            segments = implement_k_overlapped_alg(inst, primary_routes, extended_routes, capacity, route_size,\n",
    "                                                  overlap_size)\n",
    "            for seg in segments:\n",
    "                tour_cost += get_total_cost(inst, seg)\n",
    "        print('Candidate Tour: {}, Cost: {}'.format(tour, tour_cost.round(2)))\n",
    "        if tour_cost < lowest_cumul_cost:\n",
    "            # Set as new best tour and cost\n",
    "            best_tour = tour\n",
    "            lowest_cumul_cost = tour_cost\n",
    "            print('--> NEW BEST TOUR: {}, COST: {}'.format(best_tour, lowest_cumul_cost.round(2)))\n",
    "    # Update tour for all demand instances in this customer row\n",
    "    for inst in demand_instances:\n",
    "        inst.update_tour(best_tour)\n",
    "    return\n",
    "\n",
    "#---------------------------------------------------------------------------------\n",
    "\n",
    "def example_setup(scenario, num_cust, capacity, route_size, overlap_size, cust_sims, dem_sims):\n",
    "\n",
    "    # Create all customer and demand instances for this problem size\n",
    "    print('Creating customer instances')\n",
    "    instances = create_instances(scenario, num_cust, cust_sims, dem_sims)\n",
    "\n",
    "    # Find cost minimizing starting customer / tour sequence for each set of customer locations\n",
    "    print('Finding best tour across demand sets')\n",
    "    for row in instances:\n",
    "        inst = row[0]  # customer instance\n",
    "        primary_routes = get_primary_routes(inst, route_size)\n",
    "        extended_routes = get_extended_routes(inst, route_size, overlap_size)\n",
    "        set_best_tours(row, primary_routes, extended_routes, capacity, route_size,\n",
    "                       overlap_size)  # set cost-minimizing sequence\n",
    "\n",
    "    print('Simulation setup complete.')"
   ]
  },
  {
   "cell_type": "code",
   "execution_count": 85,
   "metadata": {},
   "outputs": [
    {
     "name": "stdout",
     "output_type": "stream",
     "text": [
      "Creating customer instances\n",
      "Finding best tour across demand sets\n",
      "Initial Tour: [0, 17, 1, 18, 10, 2, 14, 12, 16, 9, 11, 8, 7, 19, 3, 15, 6, 13, 5, 20, 4], Cost: 6406.97\n",
      "Candidate Tour: [0, 1, 18, 10, 2, 14, 12, 16, 9, 11, 8, 7, 19, 3, 15, 6, 13, 5, 20, 4, 17], Cost: 5660.27\n",
      "--> NEW BEST TOUR: [0, 1, 18, 10, 2, 14, 12, 16, 9, 11, 8, 7, 19, 3, 15, 6, 13, 5, 20, 4, 17], COST: 5660.27\n",
      "Candidate Tour: [0, 18, 10, 2, 14, 12, 16, 9, 11, 8, 7, 19, 3, 15, 6, 13, 5, 20, 4, 17, 1], Cost: 5509.51\n",
      "--> NEW BEST TOUR: [0, 18, 10, 2, 14, 12, 16, 9, 11, 8, 7, 19, 3, 15, 6, 13, 5, 20, 4, 17, 1], COST: 5509.51\n",
      "Candidate Tour: [0, 10, 2, 14, 12, 16, 9, 11, 8, 7, 19, 3, 15, 6, 13, 5, 20, 4, 17, 1, 18], Cost: 5509.51\n",
      "Candidate Tour: [0, 2, 14, 12, 16, 9, 11, 8, 7, 19, 3, 15, 6, 13, 5, 20, 4, 17, 1, 18, 10], Cost: 5509.51\n",
      "Candidate Tour: [0, 14, 12, 16, 9, 11, 8, 7, 19, 3, 15, 6, 13, 5, 20, 4, 17, 1, 18, 10, 2], Cost: 5509.51\n",
      "Candidate Tour: [0, 12, 16, 9, 11, 8, 7, 19, 3, 15, 6, 13, 5, 20, 4, 17, 1, 18, 10, 2, 14], Cost: 5660.27\n",
      "Candidate Tour: [0, 16, 9, 11, 8, 7, 19, 3, 15, 6, 13, 5, 20, 4, 17, 1, 18, 10, 2, 14, 12], Cost: 5487.32\n",
      "--> NEW BEST TOUR: [0, 16, 9, 11, 8, 7, 19, 3, 15, 6, 13, 5, 20, 4, 17, 1, 18, 10, 2, 14, 12], COST: 5487.32\n",
      "Candidate Tour: [0, 9, 11, 8, 7, 19, 3, 15, 6, 13, 5, 20, 4, 17, 1, 18, 10, 2, 14, 12, 16], Cost: 5487.32\n",
      "Candidate Tour: [0, 11, 8, 7, 19, 3, 15, 6, 13, 5, 20, 4, 17, 1, 18, 10, 2, 14, 12, 16, 9], Cost: 5487.32\n",
      "Candidate Tour: [0, 8, 7, 19, 3, 15, 6, 13, 5, 20, 4, 17, 1, 18, 10, 2, 14, 12, 16, 9, 11], Cost: 5487.32\n",
      "Candidate Tour: [0, 7, 19, 3, 15, 6, 13, 5, 20, 4, 17, 1, 18, 10, 2, 14, 12, 16, 9, 11, 8], Cost: 5487.32\n",
      "Candidate Tour: [0, 19, 3, 15, 6, 13, 5, 20, 4, 17, 1, 18, 10, 2, 14, 12, 16, 9, 11, 8, 7], Cost: 5487.32\n",
      "Candidate Tour: [0, 3, 15, 6, 13, 5, 20, 4, 17, 1, 18, 10, 2, 14, 12, 16, 9, 11, 8, 7, 19], Cost: 5487.32\n",
      "Candidate Tour: [0, 15, 6, 13, 5, 20, 4, 17, 1, 18, 10, 2, 14, 12, 16, 9, 11, 8, 7, 19, 3], Cost: 5660.27\n",
      "Candidate Tour: [0, 6, 13, 5, 20, 4, 17, 1, 18, 10, 2, 14, 12, 16, 9, 11, 8, 7, 19, 3, 15], Cost: 5511.99\n",
      "Candidate Tour: [0, 13, 5, 20, 4, 17, 1, 18, 10, 2, 14, 12, 16, 9, 11, 8, 7, 19, 3, 15, 6], Cost: 5511.99\n",
      "Candidate Tour: [0, 5, 20, 4, 17, 1, 18, 10, 2, 14, 12, 16, 9, 11, 8, 7, 19, 3, 15, 6, 13], Cost: 5511.99\n",
      "Candidate Tour: [0, 20, 4, 17, 1, 18, 10, 2, 14, 12, 16, 9, 11, 8, 7, 19, 3, 15, 6, 13, 5], Cost: 5511.99\n",
      "Candidate Tour: [0, 4, 17, 1, 18, 10, 2, 14, 12, 16, 9, 11, 8, 7, 19, 3, 15, 6, 13, 5, 20], Cost: 5511.99\n",
      "Candidate Tour: [0, 17, 1, 18, 10, 2, 14, 12, 16, 9, 11, 8, 7, 19, 3, 15, 6, 13, 5, 20, 4], Cost: 5660.27\n",
      "Simulation setup complete.\n"
     ]
    }
   ],
   "source": [
    "example_setup(scenario = 'baseline',\n",
    "              num_cust = inst.size,\n",
    "              capacity = capacity,\n",
    "              route_size = route_size,\n",
    "              overlap_size = overlap_size,\n",
    "              cust_sims = 1,\n",
    "              dem_sims = 10)"
   ]
  }
 ],
 "metadata": {
  "kernelspec": {
   "display_name": "Python 3",
   "language": "python",
   "name": "python3"
  },
  "language_info": {
   "codemirror_mode": {
    "name": "ipython",
    "version": 3
   },
   "file_extension": ".py",
   "mimetype": "text/x-python",
   "name": "python",
   "nbconvert_exporter": "python",
   "pygments_lexer": "ipython3",
   "version": "3.7.6"
  }
 },
 "nbformat": 4,
 "nbformat_minor": 4
}
