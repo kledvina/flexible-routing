{
 "cells": [
  {
   "cell_type": "markdown",
   "metadata": {},
   "source": [
    "#### Setup"
   ]
  },
  {
   "cell_type": "code",
   "execution_count": 2,
   "metadata": {},
   "outputs": [
    {
     "name": "stdout",
     "output_type": "stream",
     "text": [
      "3.7.6 | packaged by conda-forge | (default, Mar 23 2020, 22:45:16) \n",
      "[Clang 9.0.1 ]\n"
     ]
    }
   ],
   "source": [
    "import sys\n",
    "import numpy as np\n",
    "import pandas as pd\n",
    "import math\n",
    "import random\n",
    "from concorde.tsp import TSPSolver\n",
    "from ortools.constraint_solver import routing_enums_pb2\n",
    "from ortools.constraint_solver import pywrapcp\n",
    "print(sys.version)"
   ]
  },
  {
   "cell_type": "code",
   "execution_count": 3,
   "metadata": {},
   "outputs": [],
   "source": [
    "# GLOBAL VARIABLES\n",
    "field_width = 100\n",
    "field_height = 100\n",
    "depot_x = 50\n",
    "depot_y = 50"
   ]
  },
  {
   "cell_type": "code",
   "execution_count": 4,
   "metadata": {},
   "outputs": [],
   "source": [
    "class Instance():\n",
    "    \n",
    "    def __init__(self, xlocs, ylocs, demands, capacity, route_size, overlap_size):\n",
    "\n",
    "        self.num_customers = len(demands)-1\n",
    "        self.fleet_size = len(demands)/route_size\n",
    "        self.overlap_size = overlap_size\n",
    "        self.capacity = capacity\n",
    "        self.demands = demands\n",
    "        self.xlocs = xlocs\n",
    "        self.ylocs = ylocs\n",
    "        self.route_size = route_size\n",
    "        self.distances = self.calc_distance_matrix()\n",
    "        \n",
    "    def calc_distance_matrix(self):\n",
    "\n",
    "        distances = np.zeros((self.num_customers+1, self.num_customers+1), dtype=float)\n",
    "        for i in range(self.num_customers+1):\n",
    "            for j in range(self.num_customers+1):\n",
    "                new_dist = math.sqrt((self.xlocs[i]-self.xlocs[j])**2 + (self.ylocs[i]-self.ylocs[j])**2)\n",
    "                distances[i,j] = new_dist\n",
    "        return distances\n",
    "\n",
    "    def get_lowerbound(self):\n",
    "        return (2/self.capacity) * sum([self.demands[i]*self.distances[0,i]\n",
    "                                        for i in range(len(self.demands))])"
   ]
  },
  {
   "cell_type": "code",
   "execution_count": 5,
   "metadata": {},
   "outputs": [],
   "source": [
    "def solve_TSP(inst):\n",
    "    \n",
    "    solver = TSPSolver.from_data(inst.xlocs, inst.ylocs, 'EUC_2D')\n",
    "    solution = solver.solve()\n",
    "    return solution\n",
    "\n",
    "\n",
    "def get_dedicated_routes(inst,tour):\n",
    "    \n",
    "    tour =  tour[1:]\n",
    "    routes = []\n",
    "    for i in range(0,len(tour),inst.route_size):\n",
    "        new_route = tour[i:i+inst.route_size]\n",
    "        routes.append(new_route)\n",
    "    return routes\n"
   ]
  },
  {
   "cell_type": "code",
   "execution_count": 7,
   "metadata": {},
   "outputs": [],
   "source": [
    "def get_circular_cost(inst,segment):\n",
    "    return sum([inst.distances[segment[i],segment[i+1]] for i in range(len(segment)-1)])\n",
    "\n",
    "def get_radial_cost(inst,segment):\n",
    "    \"\"\"Assumes vehicle travels to/from the depot at segment endpoints.\"\"\"\n",
    "    return inst.distances[0,segment[0]] + inst.distances[0,segment[-1]]"
   ]
  },
  {
   "cell_type": "code",
   "execution_count": 6,
   "metadata": {},
   "outputs": [],
   "source": [
    "N = 3\n",
    "dmin = 0\n",
    "dmax = 8\n",
    "cust_x = field_width*np.random.random(N)\n",
    "cust_y = field_height*np.random.random(N)\n",
    "cust_dems = np.random.randint(dmin,dmax,N)\n",
    "xlocs = np.append([depot_x], cust_x)\n",
    "ylocs = np.append([depot_y], cust_y)\n",
    "demands = np.append([0], cust_dems)\n",
    "inst = Instance(xlocs, ylocs, demands, capacity=20, route_size=5, overlap_size=5)"
   ]
  },
  {
   "cell_type": "code",
   "execution_count": 8,
   "metadata": {},
   "outputs": [
    {
     "name": "stdout",
     "output_type": "stream",
     "text": [
      "Big tour: [0 3 1 2]\n",
      "Routes: [array([3, 1, 2], dtype=int32)]\n",
      "Radial costs: [96.8]\n",
      "Circular costs: [98.6]\n"
     ]
    }
   ],
   "source": [
    "tsp = solve_TSP(inst)\n",
    "routes = get_dedicated_routes(inst, tsp.tour)\n",
    "print('Big tour:', tsp.tour)\n",
    "print('Routes:', routes)\n",
    "print('Radial costs:', [get_radial_cost(inst,seg).round(1) for seg in routes])\n",
    "print('Circular costs:', [get_circular_cost(inst,seg).round(1) for seg in routes])"
   ]
  }
 ],
 "metadata": {
  "kernelspec": {
   "display_name": "Python 3",
   "language": "python",
   "name": "python3"
  },
  "language_info": {
   "codemirror_mode": {
    "name": "ipython",
    "version": 3
   },
   "file_extension": ".py",
   "mimetype": "text/x-python",
   "name": "python",
   "nbconvert_exporter": "python",
   "pygments_lexer": "ipython3",
   "version": "3.7.6"
  }
 },
 "nbformat": 4,
 "nbformat_minor": 4
}
