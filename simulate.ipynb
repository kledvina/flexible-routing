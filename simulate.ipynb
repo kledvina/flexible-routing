{
 "cells": [
  {
   "cell_type": "markdown",
   "metadata": {},
   "source": [
    "#### Setup"
   ]
  },
  {
   "cell_type": "code",
   "execution_count": 2,
   "metadata": {},
   "outputs": [
    {
     "name": "stdout",
     "output_type": "stream",
     "text": [
      "3.7.6 | packaged by conda-forge | (default, Mar 23 2020, 22:45:16) \n",
      "[Clang 9.0.1 ]\n"
     ]
    }
   ],
   "source": [
    "import sys\n",
    "import numpy as np\n",
    "import pandas as pd\n",
    "import math\n",
    "import random\n",
    "from concorde.tsp import TSPSolver\n",
    "from ortools.constraint_solver import routing_enums_pb2\n",
    "from ortools.constraint_solver import pywrapcp\n",
    "print(sys.version)"
   ]
  },
  {
   "cell_type": "code",
   "execution_count": 3,
   "metadata": {},
   "outputs": [],
   "source": [
    "# GLOBAL VARIABLES\n",
    "field_width = 100\n",
    "field_height = 100\n",
    "depot_x = 50\n",
    "depot_y = 50"
   ]
  },
  {
   "cell_type": "code",
   "execution_count": 71,
   "metadata": {},
   "outputs": [],
   "source": [
    "class Instance():\n",
    "    \n",
    "    def __init__(self, xlocs, ylocs, demands):\n",
    "\n",
    "        self.size = len(demands)-1\n",
    "        self.demands = demands\n",
    "        self.xlocs = xlocs\n",
    "        self.ylocs = ylocs\n",
    "        self.distances = self.calc_distance_matrix()\n",
    "        self.tour = 'None'\n",
    "        \n",
    "    def calc_distance_matrix(self):\n",
    "\n",
    "        distances = np.zeros((self.size+1, self.size+1), dtype=float)\n",
    "        for i in range(self.size+1):\n",
    "            for j in range(self.size+1):\n",
    "                new_dist = math.sqrt((self.xlocs[i]-self.xlocs[j])**2 + (self.ylocs[i]-self.ylocs[j])**2)\n",
    "                distances[i,j] = new_dist\n",
    "        return distances\n",
    "\n",
    "    def get_lowerbound(self, capacity):\n",
    "        return (2/capacity) * sum([self.demands[i]*self.distances[0,i]\n",
    "                                        for i in range(len(self.demands))])\n",
    "    \n",
    "    def get_fleet_size(self, route_size):\n",
    "        assert self.size % route_size == 0, \"Number of customers must be evenly divisible by the route size.\"\n",
    "        return int(self.size / route_size)\n",
    "    \n",
    "    def solve_TSP(self):\n",
    "        solver = TSPSolver.from_data(inst.xlocs, inst.ylocs, 'EUC_2D')\n",
    "        solution = solver.solve()\n",
    "        self.tour = solution.tour"
   ]
  },
  {
   "cell_type": "code",
   "execution_count": 82,
   "metadata": {},
   "outputs": [],
   "source": [
    "def solve_TSP(inst):\n",
    "    \n",
    "    solver = TSPSolver.from_data(inst.xlocs, inst.ylocs, 'EUC_2D')\n",
    "    solution = solver.solve()\n",
    "    return solution\n",
    "\n",
    "def get_dedicated_routes(inst, route_size):\n",
    "    \n",
    "    tour =  inst.tour[1:]\n",
    "    routes = []\n",
    "    for i in range(0,len(tour),route_size):\n",
    "        new_route = tour[i:i+route_size]\n",
    "        routes.append(new_route)\n",
    "    return routes\n"
   ]
  },
  {
   "cell_type": "code",
   "execution_count": 7,
   "metadata": {},
   "outputs": [],
   "source": [
    "def get_circular_cost(inst,segment):\n",
    "    return sum([inst.distances[segment[i],segment[i+1]] for i in range(len(segment)-1)])\n",
    "\n",
    "def get_radial_cost(inst,segment):\n",
    "    \"\"\"Assumes vehicle travels to/from the depot at segment endpoints.\"\"\"\n",
    "    return inst.distances[0,segment[0]] + inst.distances[0,segment[-1]]"
   ]
  },
  {
   "cell_type": "code",
   "execution_count": null,
   "metadata": {},
   "outputs": [],
   "source": [
    "def solve_fully_flexible(inst):\n",
    "    \n",
    "    # Get pairwise distances\n",
    "    nodes = {}\n",
    "    nodes.update(depots)\n",
    "    nodes.update(customers)\n",
    "    distances = calc_dist_matrix(nodes)\n",
    "    \n",
    "    # Keep customers with non-zero demand\n",
    "    nonzero_tau = dict([(i, tau[i]) for i in tau if tau[i].d >0])\n",
    "    \n",
    "    # Use bin-packing to determine  route endpoints (list indices)\n",
    "    demands = [nonzero_tau[i].d for i in nonzero_tau]\n",
    "    if len(demands) > 0:\n",
    "        endpoints = [0] + get_breakpoint_indices(demands, Q) + [len(demands)-1]\n",
    "        assert len(endpoints) % 2 == 0, \"Assertion Error: There is not an even number of endpoints.\"\n",
    "        num_trips = len(endpoints)/2\n",
    "    else:\n",
    "        return (0,0,0,0) # No demands to fill, so no transportation costs or trips\n",
    "    \n",
    "    # Use end points to create Routes and calculate costs\n",
    "    greedy_routes = {}\n",
    "    circular_costs = []\n",
    "    radial_costs = []\n",
    "    total_costs = []\n",
    "    \n",
    "    j = 1\n",
    "    for e in range(0,len(endpoints)-1,2):\n",
    "        \n",
    "        # Create new route\n",
    "        start = endpoints[e] # Position of first customer\n",
    "        end = endpoints[e+1] # Position of last customer\n",
    "        sub_seq = dict([(i, nonzero_tau[i]) for i in nonzero_tau if i >= [*nonzero_tau][start] and i <= [*nonzero_tau][end]])\n",
    "        greedy_routes[j] = Route(sub_seq, j)\n",
    "        \n",
    "        # TO-DO: Need to update to accomodate split demand\n",
    "\n",
    "        # Calculate radial costs at beginning and end of route\n",
    "        radial = distances[depot.ID, greedy_routes[j].customers[0].ID] + distances[depot.ID, greedy_routes[j].customers[-1].ID]\n",
    "        radial_costs.append(radial)\n",
    "\n",
    "        # Calculate circular cost\n",
    "        route_edges = get_edge_list(greedy_routes[j],depot) # Edge list\n",
    "        circular = sum([distances[e] for e in route_edges])\n",
    "        circular -= radial # TEMP FIX: remove radial cost from circular to prevent double counting\n",
    "        circular_costs.append(circular)\n",
    "        \n",
    "        # Total cost\n",
    "        total_costs.append(circular+radial)\n",
    "        j+=1\n",
    "    \n",
    "    \"\"\"\n",
    "    ### Generate report ###\n",
    "    \n",
    "    print('N=%s, M=%s, Q=%s \\n' %(len(customers),len(greedy_routes),Q))\n",
    " \n",
    "    for j in greedy_routes:\n",
    "        print(\"Truck %s Route (pos, d) -->\" %j, [(list(greedy_routes[j].sequence.keys())[i],\n",
    "                                                 greedy_routes[j].customers[i].ID,\n",
    "                                                 greedy_routes[j].customers[i].d) for i in range(greedy_routes[j].n)])\n",
    "    print('')\n",
    "    print('Starting Position (s), Workload (w), Excess Capacity (e), Final Position (f):')\n",
    "    for j in greedy_routes:\n",
    "        print('Route %s: s=%s, w=%s, e=%s, f=%s'\n",
    "              %(j,[*greedy_routes[j].sequence][0],greedy_routes[j].d, Q-greedy_routes[j].d, [*greedy_routes[j].sequence][-1]))\n",
    "    print('')\n",
    "    print('Circular Costs --> ', np.round(circular_costs))\n",
    "    print('Radial Costs --> ', np.round(radial_costs))\n",
    "    print('Total Costs --> ', np.round(np.add(radial_costs,circular_costs)))\n",
    "\n",
    "    \"\"\"\n",
    "\n",
    "    \n",
    "    return sum(circular_costs), sum(radial_costs), sum(total_costs), num_trips"
   ]
  },
  {
   "cell_type": "code",
   "execution_count": 84,
   "metadata": {},
   "outputs": [],
   "source": [
    "N = 10\n",
    "dmin = 0\n",
    "dmax = 8\n",
    "cust_x = field_width*np.random.random(N)\n",
    "cust_y = field_height*np.random.random(N)\n",
    "cust_dems = np.random.randint(dmin,dmax,N)\n",
    "xlocs = np.append([depot_x], cust_x)\n",
    "ylocs = np.append([depot_y], cust_y)\n",
    "demands = np.append([0], cust_dems)\n",
    "inst = Instance(xlocs, ylocs, demands)"
   ]
  },
  {
   "cell_type": "code",
   "execution_count": 53,
   "metadata": {},
   "outputs": [
    {
     "data": {
      "text/plain": [
       "158.970585216701"
      ]
     },
     "execution_count": 53,
     "metadata": {},
     "output_type": "execute_result"
    }
   ],
   "source": [
    "capacity=20\n",
    "inst.get_lowerbound(capacity)"
   ]
  },
  {
   "cell_type": "code",
   "execution_count": 55,
   "metadata": {},
   "outputs": [
    {
     "data": {
      "text/plain": [
       "2"
      ]
     },
     "execution_count": 55,
     "metadata": {},
     "output_type": "execute_result"
    }
   ],
   "source": [
    "route_size = 5\n",
    "inst.get_fleet_size(route_size)"
   ]
  },
  {
   "cell_type": "code",
   "execution_count": 73,
   "metadata": {},
   "outputs": [
    {
     "data": {
      "text/plain": [
       "'None'"
      ]
     },
     "execution_count": 73,
     "metadata": {},
     "output_type": "execute_result"
    }
   ],
   "source": [
    "inst.tour"
   ]
  },
  {
   "cell_type": "code",
   "execution_count": 86,
   "metadata": {},
   "outputs": [
    {
     "data": {
      "text/plain": [
       "array([ 0,  5,  6,  4,  1,  9,  8,  7,  2, 10,  3], dtype=int32)"
      ]
     },
     "execution_count": 86,
     "metadata": {},
     "output_type": "execute_result"
    }
   ],
   "source": [
    "inst.solve_TSP()\n",
    "inst.tour"
   ]
  },
  {
   "cell_type": "code",
   "execution_count": 87,
   "metadata": {},
   "outputs": [
    {
     "name": "stdout",
     "output_type": "stream",
     "text": [
      "Big tour: [ 0  5  6  4  1  9  8  7  2 10  3]\n",
      "Routes: [array([5, 6, 4, 1, 9], dtype=int32), array([ 8,  7,  2, 10,  3], dtype=int32)]\n",
      "Radial costs: [69.3, 54.5]\n",
      "Circular costs: [42.8, 93.9]\n"
     ]
    }
   ],
   "source": [
    "#tsp = solve_TSP(inst)\n",
    "inst.solve_TSP()\n",
    "routes = get_dedicated_routes(inst, route_size)\n",
    "print('Big tour:', inst.tour)\n",
    "print('Routes:', routes)\n",
    "print('Radial costs:', [get_radial_cost(inst,seg).round(1) for seg in routes])\n",
    "print('Circular costs:', [get_circular_cost(inst,seg).round(1) for seg in routes])"
   ]
  }
 ],
 "metadata": {
  "kernelspec": {
   "display_name": "Python 3",
   "language": "python",
   "name": "python3"
  },
  "language_info": {
   "codemirror_mode": {
    "name": "ipython",
    "version": 3
   },
   "file_extension": ".py",
   "mimetype": "text/x-python",
   "name": "python",
   "nbconvert_exporter": "python",
   "pygments_lexer": "ipython3",
   "version": "3.7.6"
  }
 },
 "nbformat": 4,
 "nbformat_minor": 4
}
